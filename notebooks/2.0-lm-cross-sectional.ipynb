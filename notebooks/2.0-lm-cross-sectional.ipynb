{
 "cells": [
  {
   "cell_type": "markdown",
   "metadata": {},
   "source": [
    "# CROSS SECTIONAL ANALYSIS\n",
    "\n",
    "In this notebook we will try to build a classifier which can answer our first research question: "
   ]
  },
  {
   "cell_type": "markdown",
   "metadata": {},
   "source": [
    "### Question: Will an issued fine be paid shortly after?"
   ]
  },
  {
   "cell_type": "code",
   "execution_count": 1,
   "metadata": {},
   "outputs": [],
   "source": [
    "# Load the \"autoreload\" extension\n",
    "%load_ext autoreload\n",
    "%autoreload 2\n",
    "\n",
    "import sys\n",
    "import os\n",
    "import numpy as np\n",
    "import pandas as pd\n",
    "import matplotlib\n",
    "import datetime\n",
    "%matplotlib inline\n",
    "#%matplotlib notebook\n",
    "import matplotlib as mpl\n",
    "import matplotlib.pyplot as plt\n",
    "mpl.style.use('ggplot')\n",
    "\n",
    "# add the 'src' directory as one where we can import modules\n",
    "src_dir = os.path.abspath(os.path.join(os.getcwd(), os.pardir, 'src'))\n",
    "sys.path.append(src_dir)\n",
    "\n",
    "# self written packages\n",
    "from data import data_utils\n",
    "from data.preprocessing import preprocess\n",
    "\n",
    "from copy import deepcopy\n",
    "from sklearn.model_selection import train_test_split\n",
    "from sklearn.ensemble import RandomForestClassifier\n",
    "from sklearn.metrics import accuracy_score\n",
    "from sklearn.model_selection import cross_val_score\n",
    "from sklearn.model_selection import GridSearchCV\n",
    "from sklearn.metrics import roc_curve, auc"
   ]
  },
  {
   "cell_type": "markdown",
   "metadata": {},
   "source": [
    "### Read files from directory of processed data tables"
   ]
  },
  {
   "cell_type": "code",
   "execution_count": 2,
   "metadata": {
    "collapsed": true
   },
   "outputs": [],
   "source": [
    "dfs = data_utils.read_csv_from_dir(dir_name=\"processed\")"
   ]
  },
  {
   "cell_type": "markdown",
   "metadata": {},
   "source": [
    "-----------\n",
    "## Preprocessing"
   ]
  },
  {
   "cell_type": "markdown",
   "metadata": {},
   "source": [
    "### Get all CaseIDs from create_fine events:"
   ]
  },
  {
   "cell_type": "code",
   "execution_count": 3,
   "metadata": {},
   "outputs": [
    {
     "data": {
      "text/plain": [
       "150370"
      ]
     },
     "execution_count": 3,
     "metadata": {},
     "output_type": "execute_result"
    }
   ],
   "source": [
    "create_fine_activities_RAW = deepcopy(dfs[2])\n",
    "create_fine_uid = set(create_fine_activities_RAW[\"T:concept:name\"])\n",
    "len(create_fine_uid)"
   ]
  },
  {
   "cell_type": "markdown",
   "metadata": {},
   "source": [
    "### Get all CaseIDs from payment events:"
   ]
  },
  {
   "cell_type": "code",
   "execution_count": 4,
   "metadata": {
    "collapsed": true
   },
   "outputs": [],
   "source": [
    "payment_activities_RAW = deepcopy(dfs[6])\n",
    "payment_uid = set(payment_activities_RAW[\"T:concept:name\"])"
   ]
  },
  {
   "cell_type": "markdown",
   "metadata": {},
   "source": [
    "### Create union of both sets to get all cases which are common"
   ]
  },
  {
   "cell_type": "code",
   "execution_count": 5,
   "metadata": {},
   "outputs": [
    {
     "data": {
      "text/plain": [
       "69715"
      ]
     },
     "execution_count": 5,
     "metadata": {},
     "output_type": "execute_result"
    }
   ],
   "source": [
    "# union of both events\n",
    "create_to_payment_uid = payment_uid & create_fine_uid\n",
    "len(create_to_payment_uid)"
   ]
  },
  {
   "cell_type": "markdown",
   "metadata": {},
   "source": [
    "### Delete all CaseIDs which are part of any other set"
   ]
  },
  {
   "cell_type": "code",
   "execution_count": 6,
   "metadata": {
    "collapsed": true,
    "scrolled": false
   },
   "outputs": [],
   "source": [
    "result_ids = create_to_payment_uid\n",
    "for i in range(0,len(dfs)):\n",
    "    if i not in [2,6]:\n",
    "        helper = deepcopy(dfs[i])\n",
    "        helper = set(helper[\"T:concept:name\"])\n",
    "        result_ids = result_ids - helper"
   ]
  },
  {
   "cell_type": "markdown",
   "metadata": {},
   "source": [
    "### Amount of unique cases which only exist of create_fine and payment event"
   ]
  },
  {
   "cell_type": "code",
   "execution_count": 7,
   "metadata": {},
   "outputs": [
    {
     "data": {
      "text/plain": [
       "46383"
      ]
     },
     "execution_count": 7,
     "metadata": {},
     "output_type": "execute_result"
    }
   ],
   "source": [
    "len(result_ids)"
   ]
  },
  {
   "cell_type": "markdown",
   "metadata": {},
   "source": [
    "### Add Column to create_fine data frame wich holds the dependent variable (label)"
   ]
  },
  {
   "cell_type": "code",
   "execution_count": 8,
   "metadata": {
    "collapsed": true
   },
   "outputs": [],
   "source": [
    "data = create_fine_activities_RAW.set_index(\"T:concept:name\")\n",
    "data[\"label\"] = 0\n",
    "payment_indices = list(result_ids)\n",
    "data.loc[payment_indices, \"label\"] = 1"
   ]
  },
  {
   "cell_type": "code",
   "execution_count": 9,
   "metadata": {},
   "outputs": [
    {
     "data": {
      "text/html": [
       "<div>\n",
       "<style scoped>\n",
       "    .dataframe tbody tr th:only-of-type {\n",
       "        vertical-align: middle;\n",
       "    }\n",
       "\n",
       "    .dataframe tbody tr th {\n",
       "        vertical-align: top;\n",
       "    }\n",
       "\n",
       "    .dataframe thead th {\n",
       "        text-align: right;\n",
       "    }\n",
       "</style>\n",
       "<table border=\"1\" class=\"dataframe\">\n",
       "  <thead>\n",
       "    <tr style=\"text-align: right;\">\n",
       "      <th></th>\n",
       "      <th>index</th>\n",
       "      <th>E:amount</th>\n",
       "      <th>E:article</th>\n",
       "      <th>E:concept:name</th>\n",
       "      <th>E:dismissal</th>\n",
       "      <th>E:lifecycle:transition</th>\n",
       "      <th>E:org:resource</th>\n",
       "      <th>E:points</th>\n",
       "      <th>E:time:timestamp</th>\n",
       "      <th>E:vehicleClass</th>\n",
       "      <th>label</th>\n",
       "    </tr>\n",
       "    <tr>\n",
       "      <th>T:concept:name</th>\n",
       "      <th></th>\n",
       "      <th></th>\n",
       "      <th></th>\n",
       "      <th></th>\n",
       "      <th></th>\n",
       "      <th></th>\n",
       "      <th></th>\n",
       "      <th></th>\n",
       "      <th></th>\n",
       "      <th></th>\n",
       "      <th></th>\n",
       "    </tr>\n",
       "  </thead>\n",
       "  <tbody>\n",
       "    <tr>\n",
       "      <th>A1</th>\n",
       "      <td>0</td>\n",
       "      <td>35.0</td>\n",
       "      <td>157.0</td>\n",
       "      <td>Create Fine</td>\n",
       "      <td>NIL</td>\n",
       "      <td>complete</td>\n",
       "      <td>561.0</td>\n",
       "      <td>0.0</td>\n",
       "      <td>7/24/06 12:00 AM</td>\n",
       "      <td>A</td>\n",
       "      <td>0</td>\n",
       "    </tr>\n",
       "    <tr>\n",
       "      <th>A100</th>\n",
       "      <td>2</td>\n",
       "      <td>35.0</td>\n",
       "      <td>157.0</td>\n",
       "      <td>Create Fine</td>\n",
       "      <td>NIL</td>\n",
       "      <td>complete</td>\n",
       "      <td>561.0</td>\n",
       "      <td>0.0</td>\n",
       "      <td>8/2/06 12:00 AM</td>\n",
       "      <td>A</td>\n",
       "      <td>0</td>\n",
       "    </tr>\n",
       "    <tr>\n",
       "      <th>A10000</th>\n",
       "      <td>7</td>\n",
       "      <td>36.0</td>\n",
       "      <td>157.0</td>\n",
       "      <td>Create Fine</td>\n",
       "      <td>NIL</td>\n",
       "      <td>complete</td>\n",
       "      <td>561.0</td>\n",
       "      <td>0.0</td>\n",
       "      <td>3/9/07 12:00 AM</td>\n",
       "      <td>A</td>\n",
       "      <td>0</td>\n",
       "    </tr>\n",
       "    <tr>\n",
       "      <th>A10001</th>\n",
       "      <td>12</td>\n",
       "      <td>36.0</td>\n",
       "      <td>157.0</td>\n",
       "      <td>Create Fine</td>\n",
       "      <td>NIL</td>\n",
       "      <td>complete</td>\n",
       "      <td>537.0</td>\n",
       "      <td>0.0</td>\n",
       "      <td>3/19/07 12:00 AM</td>\n",
       "      <td>A</td>\n",
       "      <td>0</td>\n",
       "    </tr>\n",
       "    <tr>\n",
       "      <th>A10004</th>\n",
       "      <td>18</td>\n",
       "      <td>36.0</td>\n",
       "      <td>157.0</td>\n",
       "      <td>Create Fine</td>\n",
       "      <td>NIL</td>\n",
       "      <td>complete</td>\n",
       "      <td>537.0</td>\n",
       "      <td>0.0</td>\n",
       "      <td>3/20/07 12:00 AM</td>\n",
       "      <td>A</td>\n",
       "      <td>0</td>\n",
       "    </tr>\n",
       "  </tbody>\n",
       "</table>\n",
       "</div>"
      ],
      "text/plain": [
       "                index  E:amount  E:article E:concept:name E:dismissal  \\\n",
       "T:concept:name                                                          \n",
       "A1                  0      35.0      157.0    Create Fine         NIL   \n",
       "A100                2      35.0      157.0    Create Fine         NIL   \n",
       "A10000              7      36.0      157.0    Create Fine         NIL   \n",
       "A10001             12      36.0      157.0    Create Fine         NIL   \n",
       "A10004             18      36.0      157.0    Create Fine         NIL   \n",
       "\n",
       "               E:lifecycle:transition  E:org:resource  E:points  \\\n",
       "T:concept:name                                                    \n",
       "A1                           complete           561.0       0.0   \n",
       "A100                         complete           561.0       0.0   \n",
       "A10000                       complete           561.0       0.0   \n",
       "A10001                       complete           537.0       0.0   \n",
       "A10004                       complete           537.0       0.0   \n",
       "\n",
       "                E:time:timestamp E:vehicleClass  label  \n",
       "T:concept:name                                          \n",
       "A1              7/24/06 12:00 AM              A      0  \n",
       "A100             8/2/06 12:00 AM              A      0  \n",
       "A10000           3/9/07 12:00 AM              A      0  \n",
       "A10001          3/19/07 12:00 AM              A      0  \n",
       "A10004          3/20/07 12:00 AM              A      0  "
      ]
     },
     "execution_count": 9,
     "metadata": {},
     "output_type": "execute_result"
    }
   ],
   "source": [
    "data.head()"
   ]
  },
  {
   "cell_type": "markdown",
   "metadata": {},
   "source": [
    "### Label distribution"
   ]
  },
  {
   "cell_type": "code",
   "execution_count": 10,
   "metadata": {},
   "outputs": [
    {
     "data": {
      "text/html": [
       "<div>\n",
       "<style scoped>\n",
       "    .dataframe tbody tr th:only-of-type {\n",
       "        vertical-align: middle;\n",
       "    }\n",
       "\n",
       "    .dataframe tbody tr th {\n",
       "        vertical-align: top;\n",
       "    }\n",
       "\n",
       "    .dataframe thead th {\n",
       "        text-align: right;\n",
       "    }\n",
       "</style>\n",
       "<table border=\"1\" class=\"dataframe\">\n",
       "  <thead>\n",
       "    <tr style=\"text-align: right;\">\n",
       "      <th></th>\n",
       "      <th>count</th>\n",
       "    </tr>\n",
       "    <tr>\n",
       "      <th>label</th>\n",
       "      <th></th>\n",
       "    </tr>\n",
       "  </thead>\n",
       "  <tbody>\n",
       "    <tr>\n",
       "      <th>0</th>\n",
       "      <td>103987</td>\n",
       "    </tr>\n",
       "    <tr>\n",
       "      <th>1</th>\n",
       "      <td>46383</td>\n",
       "    </tr>\n",
       "  </tbody>\n",
       "</table>\n",
       "</div>"
      ],
      "text/plain": [
       "        count\n",
       "label        \n",
       "0      103987\n",
       "1       46383"
      ]
     },
     "execution_count": 10,
     "metadata": {},
     "output_type": "execute_result"
    }
   ],
   "source": [
    "summary = data.groupby([\"label\"]).count().loc[:,['E:amount']]\n",
    "summary = summary.rename(columns={'E:amount': 'count'})\n",
    "summary"
   ]
  },
  {
   "cell_type": "markdown",
   "metadata": {},
   "source": [
    "------\n",
    "## Feature Engineering"
   ]
  },
  {
   "cell_type": "markdown",
   "metadata": {},
   "source": [
    "E:org:resource Distribution is an categorical feature, but due to the high variation we will keep it as numerical one"
   ]
  },
  {
   "cell_type": "code",
   "execution_count": 11,
   "metadata": {},
   "outputs": [
    {
     "data": {
      "image/png": "[encoded data removed]",
      "text/plain": [
       "<matplotlib.figure.Figure at 0x1d1cdf7cd30>"
      ]
     },
     "metadata": {},
     "output_type": "display_data"
    }
   ],
   "source": [
    "fig, ax = plt.subplots(figsize=(25,8))\n",
    "data.groupby('E:org:resource').count().T.head(1).T.rename({\"index\":\"count\"}).plot(kind=\"bar\", ax=ax);"
   ]
  },
  {
   "cell_type": "markdown",
   "metadata": {},
   "source": [
    "## Definition of the E:dismissal variable:\n",
    "Dismissal contains a character that encodes the diverse reasons for a possible dismissal of the fine. A value of NIL encodes that the fine is not dismissed (i.e. has to be paid) any other value encodes different motivations."
   ]
  },
  {
   "cell_type": "markdown",
   "metadata": {},
   "source": [
    "### Redesign feature E:dismissal so that 1 encodes \"mandatory payment\" & 0 encodes the \"payment is dropped\""
   ]
  },
  {
   "cell_type": "code",
   "execution_count": 12,
   "metadata": {},
   "outputs": [],
   "source": [
    "data[\"dismissal\"] = 0\n",
    "dismissal_nil_indices = list(data[data[\"E:dismissal\"]=='NIL'].index)\n",
    "data.loc[dismissal_nil_indices, \"dismissal\"] = 1\n",
    "data = data.drop('E:dismissal', axis=1)\n",
    "data.reset_index(inplace=True)\n",
    "\n",
    "# drop unnecessary columns\n",
    "not_used_columns = ['index','T:concept:name','E:concept:name', 'E:lifecycle:transition']\n",
    "data = data.drop(not_used_columns, axis=1)"
   ]
  },
  {
   "cell_type": "code",
   "execution_count": 13,
   "metadata": {},
   "outputs": [
    {
     "data": {
      "text/html": [
       "<div>\n",
       "<style scoped>\n",
       "    .dataframe tbody tr th:only-of-type {\n",
       "        vertical-align: middle;\n",
       "    }\n",
       "\n",
       "    .dataframe tbody tr th {\n",
       "        vertical-align: top;\n",
       "    }\n",
       "\n",
       "    .dataframe thead th {\n",
       "        text-align: right;\n",
       "    }\n",
       "</style>\n",
       "<table border=\"1\" class=\"dataframe\">\n",
       "  <thead>\n",
       "    <tr style=\"text-align: right;\">\n",
       "      <th></th>\n",
       "      <th>E:amount</th>\n",
       "      <th>E:article</th>\n",
       "      <th>E:org:resource</th>\n",
       "      <th>E:points</th>\n",
       "      <th>E:time:timestamp</th>\n",
       "      <th>E:vehicleClass</th>\n",
       "      <th>label</th>\n",
       "      <th>dismissal</th>\n",
       "    </tr>\n",
       "  </thead>\n",
       "  <tbody>\n",
       "    <tr>\n",
       "      <th>0</th>\n",
       "      <td>35.0</td>\n",
       "      <td>157.0</td>\n",
       "      <td>561.0</td>\n",
       "      <td>0.0</td>\n",
       "      <td>7/24/06 12:00 AM</td>\n",
       "      <td>A</td>\n",
       "      <td>0</td>\n",
       "      <td>1</td>\n",
       "    </tr>\n",
       "    <tr>\n",
       "      <th>1</th>\n",
       "      <td>35.0</td>\n",
       "      <td>157.0</td>\n",
       "      <td>561.0</td>\n",
       "      <td>0.0</td>\n",
       "      <td>8/2/06 12:00 AM</td>\n",
       "      <td>A</td>\n",
       "      <td>0</td>\n",
       "      <td>1</td>\n",
       "    </tr>\n",
       "    <tr>\n",
       "      <th>2</th>\n",
       "      <td>36.0</td>\n",
       "      <td>157.0</td>\n",
       "      <td>561.0</td>\n",
       "      <td>0.0</td>\n",
       "      <td>3/9/07 12:00 AM</td>\n",
       "      <td>A</td>\n",
       "      <td>0</td>\n",
       "      <td>1</td>\n",
       "    </tr>\n",
       "    <tr>\n",
       "      <th>3</th>\n",
       "      <td>36.0</td>\n",
       "      <td>157.0</td>\n",
       "      <td>537.0</td>\n",
       "      <td>0.0</td>\n",
       "      <td>3/19/07 12:00 AM</td>\n",
       "      <td>A</td>\n",
       "      <td>0</td>\n",
       "      <td>1</td>\n",
       "    </tr>\n",
       "    <tr>\n",
       "      <th>4</th>\n",
       "      <td>36.0</td>\n",
       "      <td>157.0</td>\n",
       "      <td>537.0</td>\n",
       "      <td>0.0</td>\n",
       "      <td>3/20/07 12:00 AM</td>\n",
       "      <td>A</td>\n",
       "      <td>0</td>\n",
       "      <td>1</td>\n",
       "    </tr>\n",
       "  </tbody>\n",
       "</table>\n",
       "</div>"
      ],
      "text/plain": [
       "   E:amount  E:article  E:org:resource  E:points  E:time:timestamp  \\\n",
       "0      35.0      157.0           561.0       0.0  7/24/06 12:00 AM   \n",
       "1      35.0      157.0           561.0       0.0   8/2/06 12:00 AM   \n",
       "2      36.0      157.0           561.0       0.0   3/9/07 12:00 AM   \n",
       "3      36.0      157.0           537.0       0.0  3/19/07 12:00 AM   \n",
       "4      36.0      157.0           537.0       0.0  3/20/07 12:00 AM   \n",
       "\n",
       "  E:vehicleClass  label  dismissal  \n",
       "0              A      0          1  \n",
       "1              A      0          1  \n",
       "2              A      0          1  \n",
       "3              A      0          1  \n",
       "4              A      0          1  "
      ]
     },
     "execution_count": 13,
     "metadata": {},
     "output_type": "execute_result"
    }
   ],
   "source": [
    "data.head()"
   ]
  },
  {
   "cell_type": "code",
   "execution_count": 14,
   "metadata": {},
   "outputs": [
    {
     "data": {
      "text/html": [
       "<div>\n",
       "<style scoped>\n",
       "    .dataframe tbody tr th:only-of-type {\n",
       "        vertical-align: middle;\n",
       "    }\n",
       "\n",
       "    .dataframe tbody tr th {\n",
       "        vertical-align: top;\n",
       "    }\n",
       "\n",
       "    .dataframe thead th {\n",
       "        text-align: right;\n",
       "    }\n",
       "</style>\n",
       "<table border=\"1\" class=\"dataframe\">\n",
       "  <thead>\n",
       "    <tr style=\"text-align: right;\">\n",
       "      <th></th>\n",
       "      <th></th>\n",
       "      <th>count</th>\n",
       "    </tr>\n",
       "    <tr>\n",
       "      <th>label</th>\n",
       "      <th>dismissal</th>\n",
       "      <th></th>\n",
       "    </tr>\n",
       "  </thead>\n",
       "  <tbody>\n",
       "    <tr>\n",
       "      <th rowspan=\"2\" valign=\"top\">0</th>\n",
       "      <th>0</th>\n",
       "      <td>504</td>\n",
       "    </tr>\n",
       "    <tr>\n",
       "      <th>1</th>\n",
       "      <td>103483</td>\n",
       "    </tr>\n",
       "    <tr>\n",
       "      <th>1</th>\n",
       "      <th>1</th>\n",
       "      <td>46383</td>\n",
       "    </tr>\n",
       "  </tbody>\n",
       "</table>\n",
       "</div>"
      ],
      "text/plain": [
       "                  count\n",
       "label dismissal        \n",
       "0     0             504\n",
       "      1          103483\n",
       "1     1           46383"
      ]
     },
     "execution_count": 14,
     "metadata": {},
     "output_type": "execute_result"
    }
   ],
   "source": [
    "summary = data.groupby([\"label\",\"dismissal\"]).count().loc[:,[\"E:amount\"]]\n",
    "summary = summary.rename(columns={'E:amount': 'count'})\n",
    "summary"
   ]
  },
  {
   "cell_type": "markdown",
   "metadata": {},
   "source": [
    "### Create dummy feature out of E:vehicleClass\n",
    "Because most vehicle classes are A we create one feature called car which is 1 if it is in class A and 0 else"
   ]
  },
  {
   "cell_type": "code",
   "execution_count": 15,
   "metadata": {},
   "outputs": [
    {
     "data": {
      "text/html": [
       "<div>\n",
       "<style scoped>\n",
       "    .dataframe tbody tr th:only-of-type {\n",
       "        vertical-align: middle;\n",
       "    }\n",
       "\n",
       "    .dataframe tbody tr th {\n",
       "        vertical-align: top;\n",
       "    }\n",
       "\n",
       "    .dataframe thead th {\n",
       "        text-align: right;\n",
       "    }\n",
       "</style>\n",
       "<table border=\"1\" class=\"dataframe\">\n",
       "  <thead>\n",
       "    <tr style=\"text-align: right;\">\n",
       "      <th></th>\n",
       "      <th></th>\n",
       "      <th>count</th>\n",
       "    </tr>\n",
       "    <tr>\n",
       "      <th>label</th>\n",
       "      <th>E:vehicleClass</th>\n",
       "      <th></th>\n",
       "    </tr>\n",
       "  </thead>\n",
       "  <tbody>\n",
       "    <tr>\n",
       "      <th rowspan=\"4\" valign=\"top\">0</th>\n",
       "      <th>A</th>\n",
       "      <td>100957</td>\n",
       "    </tr>\n",
       "    <tr>\n",
       "      <th>C</th>\n",
       "      <td>1999</td>\n",
       "    </tr>\n",
       "    <tr>\n",
       "      <th>M</th>\n",
       "      <td>1027</td>\n",
       "    </tr>\n",
       "    <tr>\n",
       "      <th>R</th>\n",
       "      <td>4</td>\n",
       "    </tr>\n",
       "    <tr>\n",
       "      <th rowspan=\"3\" valign=\"top\">1</th>\n",
       "      <th>A</th>\n",
       "      <td>45755</td>\n",
       "    </tr>\n",
       "    <tr>\n",
       "      <th>C</th>\n",
       "      <td>457</td>\n",
       "    </tr>\n",
       "    <tr>\n",
       "      <th>M</th>\n",
       "      <td>171</td>\n",
       "    </tr>\n",
       "  </tbody>\n",
       "</table>\n",
       "</div>"
      ],
      "text/plain": [
       "                       count\n",
       "label E:vehicleClass        \n",
       "0     A               100957\n",
       "      C                 1999\n",
       "      M                 1027\n",
       "      R                    4\n",
       "1     A                45755\n",
       "      C                  457\n",
       "      M                  171"
      ]
     },
     "metadata": {},
     "output_type": "display_data"
    },
    {
     "data": {
      "image/png": "[encoded data removed]",
      "text/plain": [
       "<matplotlib.figure.Figure at 0x1d1cf37c518>"
      ]
     },
     "metadata": {},
     "output_type": "display_data"
    },
    {
     "data": {
      "image/png": "[encoded data removed]",
      "text/plain": [
       "<matplotlib.figure.Figure at 0x1d1d5b3e588>"
      ]
     },
     "metadata": {},
     "output_type": "display_data"
    }
   ],
   "source": [
    "summary = data.groupby([\"label\",\"E:vehicleClass\"]).count().loc[:,['E:amount']]\n",
    "summary = summary.rename(columns={'E:amount': 'count'})\n",
    "display(summary)\n",
    "data.groupby([\"E:vehicleClass\"]).count().loc[:,['E:amount']].plot(kind=\"bar\",title=\"Count of Vehicle class\");\n",
    "summary.plot(kind=\"bar\",title=\"Label and VehicleClass Distribution\");"
   ]
  },
  {
   "cell_type": "code",
   "execution_count": 16,
   "metadata": {},
   "outputs": [],
   "source": [
    "data[\"car\"] = [1 if \"A\" in vehicle_class else 0 for vehicle_class in data[\"E:vehicleClass\"]]"
   ]
  },
  {
   "cell_type": "code",
   "execution_count": 17,
   "metadata": {},
   "outputs": [
    {
     "data": {
      "text/html": [
       "<div>\n",
       "<style scoped>\n",
       "    .dataframe tbody tr th:only-of-type {\n",
       "        vertical-align: middle;\n",
       "    }\n",
       "\n",
       "    .dataframe tbody tr th {\n",
       "        vertical-align: top;\n",
       "    }\n",
       "\n",
       "    .dataframe thead th {\n",
       "        text-align: right;\n",
       "    }\n",
       "</style>\n",
       "<table border=\"1\" class=\"dataframe\">\n",
       "  <thead>\n",
       "    <tr style=\"text-align: right;\">\n",
       "      <th></th>\n",
       "      <th>E:amount</th>\n",
       "      <th>E:article</th>\n",
       "      <th>E:org:resource</th>\n",
       "      <th>E:points</th>\n",
       "      <th>E:time:timestamp</th>\n",
       "      <th>E:vehicleClass</th>\n",
       "      <th>label</th>\n",
       "      <th>dismissal</th>\n",
       "      <th>car</th>\n",
       "    </tr>\n",
       "  </thead>\n",
       "  <tbody>\n",
       "    <tr>\n",
       "      <th>0</th>\n",
       "      <td>35.0</td>\n",
       "      <td>157.0</td>\n",
       "      <td>561.0</td>\n",
       "      <td>0.0</td>\n",
       "      <td>7/24/06 12:00 AM</td>\n",
       "      <td>A</td>\n",
       "      <td>0</td>\n",
       "      <td>1</td>\n",
       "      <td>1</td>\n",
       "    </tr>\n",
       "    <tr>\n",
       "      <th>1</th>\n",
       "      <td>35.0</td>\n",
       "      <td>157.0</td>\n",
       "      <td>561.0</td>\n",
       "      <td>0.0</td>\n",
       "      <td>8/2/06 12:00 AM</td>\n",
       "      <td>A</td>\n",
       "      <td>0</td>\n",
       "      <td>1</td>\n",
       "      <td>1</td>\n",
       "    </tr>\n",
       "    <tr>\n",
       "      <th>2</th>\n",
       "      <td>36.0</td>\n",
       "      <td>157.0</td>\n",
       "      <td>561.0</td>\n",
       "      <td>0.0</td>\n",
       "      <td>3/9/07 12:00 AM</td>\n",
       "      <td>A</td>\n",
       "      <td>0</td>\n",
       "      <td>1</td>\n",
       "      <td>1</td>\n",
       "    </tr>\n",
       "    <tr>\n",
       "      <th>3</th>\n",
       "      <td>36.0</td>\n",
       "      <td>157.0</td>\n",
       "      <td>537.0</td>\n",
       "      <td>0.0</td>\n",
       "      <td>3/19/07 12:00 AM</td>\n",
       "      <td>A</td>\n",
       "      <td>0</td>\n",
       "      <td>1</td>\n",
       "      <td>1</td>\n",
       "    </tr>\n",
       "    <tr>\n",
       "      <th>4</th>\n",
       "      <td>36.0</td>\n",
       "      <td>157.0</td>\n",
       "      <td>537.0</td>\n",
       "      <td>0.0</td>\n",
       "      <td>3/20/07 12:00 AM</td>\n",
       "      <td>A</td>\n",
       "      <td>0</td>\n",
       "      <td>1</td>\n",
       "      <td>1</td>\n",
       "    </tr>\n",
       "  </tbody>\n",
       "</table>\n",
       "</div>"
      ],
      "text/plain": [
       "   E:amount  E:article  E:org:resource  E:points  E:time:timestamp  \\\n",
       "0      35.0      157.0           561.0       0.0  7/24/06 12:00 AM   \n",
       "1      35.0      157.0           561.0       0.0   8/2/06 12:00 AM   \n",
       "2      36.0      157.0           561.0       0.0   3/9/07 12:00 AM   \n",
       "3      36.0      157.0           537.0       0.0  3/19/07 12:00 AM   \n",
       "4      36.0      157.0           537.0       0.0  3/20/07 12:00 AM   \n",
       "\n",
       "  E:vehicleClass  label  dismissal  car  \n",
       "0              A      0          1    1  \n",
       "1              A      0          1    1  \n",
       "2              A      0          1    1  \n",
       "3              A      0          1    1  \n",
       "4              A      0          1    1  "
      ]
     },
     "execution_count": 17,
     "metadata": {},
     "output_type": "execute_result"
    }
   ],
   "source": [
    "data.head(5)"
   ]
  },
  {
   "cell_type": "markdown",
   "metadata": {},
   "source": [
    "### Drop unused columns\n"
   ]
  },
  {
   "cell_type": "code",
   "execution_count": 18,
   "metadata": {
    "collapsed": true
   },
   "outputs": [],
   "source": [
    "cleaned_features = data.drop(\"E:vehicleClass\",axis=1)"
   ]
  },
  {
   "cell_type": "markdown",
   "metadata": {},
   "source": [
    "### Create season features\n",
    "\n",
    "To account for the seasonality of the data we will create simple features for Spring=2, Summer=3, Autumn=4 and Winter=1."
   ]
  },
  {
   "cell_type": "code",
   "execution_count": 19,
   "metadata": {},
   "outputs": [
    {
     "data": {
      "text/html": [
       "<div>\n",
       "<style scoped>\n",
       "    .dataframe tbody tr th:only-of-type {\n",
       "        vertical-align: middle;\n",
       "    }\n",
       "\n",
       "    .dataframe tbody tr th {\n",
       "        vertical-align: top;\n",
       "    }\n",
       "\n",
       "    .dataframe thead th {\n",
       "        text-align: right;\n",
       "    }\n",
       "</style>\n",
       "<table border=\"1\" class=\"dataframe\">\n",
       "  <thead>\n",
       "    <tr style=\"text-align: right;\">\n",
       "      <th></th>\n",
       "      <th>E:amount</th>\n",
       "      <th>E:article</th>\n",
       "      <th>E:org:resource</th>\n",
       "      <th>E:points</th>\n",
       "      <th>E:time:timestamp</th>\n",
       "      <th>label</th>\n",
       "      <th>dismissal</th>\n",
       "      <th>car</th>\n",
       "    </tr>\n",
       "  </thead>\n",
       "  <tbody>\n",
       "    <tr>\n",
       "      <th>0</th>\n",
       "      <td>35.0</td>\n",
       "      <td>157.0</td>\n",
       "      <td>561.0</td>\n",
       "      <td>0.0</td>\n",
       "      <td>7/24/06 12:00 AM</td>\n",
       "      <td>0</td>\n",
       "      <td>1</td>\n",
       "      <td>1</td>\n",
       "    </tr>\n",
       "    <tr>\n",
       "      <th>1</th>\n",
       "      <td>35.0</td>\n",
       "      <td>157.0</td>\n",
       "      <td>561.0</td>\n",
       "      <td>0.0</td>\n",
       "      <td>8/2/06 12:00 AM</td>\n",
       "      <td>0</td>\n",
       "      <td>1</td>\n",
       "      <td>1</td>\n",
       "    </tr>\n",
       "    <tr>\n",
       "      <th>2</th>\n",
       "      <td>36.0</td>\n",
       "      <td>157.0</td>\n",
       "      <td>561.0</td>\n",
       "      <td>0.0</td>\n",
       "      <td>3/9/07 12:00 AM</td>\n",
       "      <td>0</td>\n",
       "      <td>1</td>\n",
       "      <td>1</td>\n",
       "    </tr>\n",
       "    <tr>\n",
       "      <th>3</th>\n",
       "      <td>36.0</td>\n",
       "      <td>157.0</td>\n",
       "      <td>537.0</td>\n",
       "      <td>0.0</td>\n",
       "      <td>3/19/07 12:00 AM</td>\n",
       "      <td>0</td>\n",
       "      <td>1</td>\n",
       "      <td>1</td>\n",
       "    </tr>\n",
       "    <tr>\n",
       "      <th>4</th>\n",
       "      <td>36.0</td>\n",
       "      <td>157.0</td>\n",
       "      <td>537.0</td>\n",
       "      <td>0.0</td>\n",
       "      <td>3/20/07 12:00 AM</td>\n",
       "      <td>0</td>\n",
       "      <td>1</td>\n",
       "      <td>1</td>\n",
       "    </tr>\n",
       "  </tbody>\n",
       "</table>\n",
       "</div>"
      ],
      "text/plain": [
       "   E:amount  E:article  E:org:resource  E:points  E:time:timestamp  label  \\\n",
       "0      35.0      157.0           561.0       0.0  7/24/06 12:00 AM      0   \n",
       "1      35.0      157.0           561.0       0.0   8/2/06 12:00 AM      0   \n",
       "2      36.0      157.0           561.0       0.0   3/9/07 12:00 AM      0   \n",
       "3      36.0      157.0           537.0       0.0  3/19/07 12:00 AM      0   \n",
       "4      36.0      157.0           537.0       0.0  3/20/07 12:00 AM      0   \n",
       "\n",
       "   dismissal  car  \n",
       "0          1    1  \n",
       "1          1    1  \n",
       "2          1    1  \n",
       "3          1    1  \n",
       "4          1    1  "
      ]
     },
     "execution_count": 19,
     "metadata": {},
     "output_type": "execute_result"
    }
   ],
   "source": [
    "cleaned_features.head()"
   ]
  },
  {
   "cell_type": "code",
   "execution_count": 20,
   "metadata": {},
   "outputs": [
    {
     "data": {
      "text/html": [
       "<div>\n",
       "<style scoped>\n",
       "    .dataframe tbody tr th:only-of-type {\n",
       "        vertical-align: middle;\n",
       "    }\n",
       "\n",
       "    .dataframe tbody tr th {\n",
       "        vertical-align: top;\n",
       "    }\n",
       "\n",
       "    .dataframe thead th {\n",
       "        text-align: right;\n",
       "    }\n",
       "</style>\n",
       "<table border=\"1\" class=\"dataframe\">\n",
       "  <thead>\n",
       "    <tr style=\"text-align: right;\">\n",
       "      <th></th>\n",
       "      <th></th>\n",
       "      <th>count</th>\n",
       "    </tr>\n",
       "    <tr>\n",
       "      <th>season</th>\n",
       "      <th>label</th>\n",
       "      <th></th>\n",
       "    </tr>\n",
       "  </thead>\n",
       "  <tbody>\n",
       "    <tr>\n",
       "      <th rowspan=\"2\" valign=\"top\">autumn</th>\n",
       "      <th>0</th>\n",
       "      <td>17339</td>\n",
       "    </tr>\n",
       "    <tr>\n",
       "      <th>1</th>\n",
       "      <td>8160</td>\n",
       "    </tr>\n",
       "    <tr>\n",
       "      <th rowspan=\"2\" valign=\"top\">spring</th>\n",
       "      <th>0</th>\n",
       "      <td>22333</td>\n",
       "    </tr>\n",
       "    <tr>\n",
       "      <th>1</th>\n",
       "      <td>9668</td>\n",
       "    </tr>\n",
       "    <tr>\n",
       "      <th rowspan=\"2\" valign=\"top\">summer</th>\n",
       "      <th>0</th>\n",
       "      <td>50223</td>\n",
       "    </tr>\n",
       "    <tr>\n",
       "      <th>1</th>\n",
       "      <td>21979</td>\n",
       "    </tr>\n",
       "    <tr>\n",
       "      <th rowspan=\"2\" valign=\"top\">winter</th>\n",
       "      <th>0</th>\n",
       "      <td>14092</td>\n",
       "    </tr>\n",
       "    <tr>\n",
       "      <th>1</th>\n",
       "      <td>6576</td>\n",
       "    </tr>\n",
       "  </tbody>\n",
       "</table>\n",
       "</div>"
      ],
      "text/plain": [
       "              count\n",
       "season label       \n",
       "autumn 0      17339\n",
       "       1       8160\n",
       "spring 0      22333\n",
       "       1       9668\n",
       "summer 0      50223\n",
       "       1      21979\n",
       "winter 0      14092\n",
       "       1       6576"
      ]
     },
     "metadata": {},
     "output_type": "display_data"
    },
    {
     "data": {
      "image/png": "[encoded data removed]",
      "text/plain": [
       "<matplotlib.figure.Figure at 0x1d1d33bf6d8>"
      ]
     },
     "metadata": {},
     "output_type": "display_data"
    }
   ],
   "source": [
    "cleaned_features['E:time:timestamp'] = pd.to_datetime(cleaned_features['E:time:timestamp'],format='%m/%d/%y %H:%M %p')\n",
    "cleaned_features[\"season\"]=cleaned_features[\"E:time:timestamp\"].apply(lambda dt: (dt.month%12 + 3)//3)\n",
    "# Rename values\n",
    "cleaned_features.loc[cleaned_features[cleaned_features[\"season\"]==1].index, \"season\"] = \"winter\"\n",
    "cleaned_features.loc[cleaned_features[cleaned_features[\"season\"]==2].index, \"season\"] = \"spring\"\n",
    "cleaned_features.loc[cleaned_features[cleaned_features[\"season\"]==3].index, \"season\"] = \"summer\"\n",
    "cleaned_features.loc[cleaned_features[cleaned_features[\"season\"]==4].index, \"season\"] = \"autumn\"\n",
    "\n",
    "summary = cleaned_features.groupby([\"season\",\"label\"]).count().loc[:,[\"E:time:timestamp\"]]\n",
    "summary = summary.rename(columns={\"E:time:timestamp\":\"count\"})\n",
    "display(summary)\n",
    "summary.plot(kind=\"bar\",title=\"Distribution of season per label\");"
   ]
  },
  {
   "cell_type": "code",
   "execution_count": 21,
   "metadata": {},
   "outputs": [
    {
     "data": {
      "text/html": [
       "<div>\n",
       "<style scoped>\n",
       "    .dataframe tbody tr th:only-of-type {\n",
       "        vertical-align: middle;\n",
       "    }\n",
       "\n",
       "    .dataframe tbody tr th {\n",
       "        vertical-align: top;\n",
       "    }\n",
       "\n",
       "    .dataframe thead th {\n",
       "        text-align: right;\n",
       "    }\n",
       "</style>\n",
       "<table border=\"1\" class=\"dataframe\">\n",
       "  <thead>\n",
       "    <tr style=\"text-align: right;\">\n",
       "      <th></th>\n",
       "      <th>E:amount</th>\n",
       "      <th>E:article</th>\n",
       "      <th>E:org:resource</th>\n",
       "      <th>E:points</th>\n",
       "      <th>E:time:timestamp</th>\n",
       "      <th>label</th>\n",
       "      <th>dismissal</th>\n",
       "      <th>car</th>\n",
       "      <th>autumn</th>\n",
       "      <th>spring</th>\n",
       "      <th>summer</th>\n",
       "      <th>winter</th>\n",
       "    </tr>\n",
       "  </thead>\n",
       "  <tbody>\n",
       "    <tr>\n",
       "      <th>0</th>\n",
       "      <td>35.0</td>\n",
       "      <td>157.0</td>\n",
       "      <td>561.0</td>\n",
       "      <td>0.0</td>\n",
       "      <td>2006-07-24 12:00:00</td>\n",
       "      <td>0</td>\n",
       "      <td>1</td>\n",
       "      <td>1</td>\n",
       "      <td>0</td>\n",
       "      <td>0</td>\n",
       "      <td>1</td>\n",
       "      <td>0</td>\n",
       "    </tr>\n",
       "    <tr>\n",
       "      <th>1</th>\n",
       "      <td>35.0</td>\n",
       "      <td>157.0</td>\n",
       "      <td>561.0</td>\n",
       "      <td>0.0</td>\n",
       "      <td>2006-08-02 12:00:00</td>\n",
       "      <td>0</td>\n",
       "      <td>1</td>\n",
       "      <td>1</td>\n",
       "      <td>0</td>\n",
       "      <td>0</td>\n",
       "      <td>1</td>\n",
       "      <td>0</td>\n",
       "    </tr>\n",
       "  </tbody>\n",
       "</table>\n",
       "</div>"
      ],
      "text/plain": [
       "   E:amount  E:article  E:org:resource  E:points    E:time:timestamp  label  \\\n",
       "0      35.0      157.0           561.0       0.0 2006-07-24 12:00:00      0   \n",
       "1      35.0      157.0           561.0       0.0 2006-08-02 12:00:00      0   \n",
       "\n",
       "   dismissal  car  autumn  spring  summer  winter  \n",
       "0          1    1       0       0       1       0  \n",
       "1          1    1       0       0       1       0  "
      ]
     },
     "execution_count": 21,
     "metadata": {},
     "output_type": "execute_result"
    }
   ],
   "source": [
    "dummy_features = pd.get_dummies(cleaned_features[\"season\"])\n",
    "# Reappend to features\n",
    "cleaned_features = pd.concat([cleaned_features, dummy_features], axis=1).drop([\"season\"],axis=1)\n",
    "cleaned_features.head(2)"
   ]
  },
  {
   "cell_type": "markdown",
   "metadata": {},
   "source": [
    "### Create monthly features\n"
   ]
  },
  {
   "cell_type": "code",
   "execution_count": 22,
   "metadata": {},
   "outputs": [
    {
     "data": {
      "text/html": [
       "<div>\n",
       "<style scoped>\n",
       "    .dataframe tbody tr th:only-of-type {\n",
       "        vertical-align: middle;\n",
       "    }\n",
       "\n",
       "    .dataframe tbody tr th {\n",
       "        vertical-align: top;\n",
       "    }\n",
       "\n",
       "    .dataframe thead tr th {\n",
       "        text-align: left;\n",
       "    }\n",
       "</style>\n",
       "<table border=\"1\" class=\"dataframe\">\n",
       "  <thead>\n",
       "    <tr>\n",
       "      <th>months</th>\n",
       "      <th colspan=\"2\" halign=\"left\">april</th>\n",
       "      <th colspan=\"2\" halign=\"left\">august</th>\n",
       "      <th colspan=\"2\" halign=\"left\">december</th>\n",
       "      <th colspan=\"2\" halign=\"left\">february</th>\n",
       "      <th colspan=\"2\" halign=\"left\">january</th>\n",
       "      <th colspan=\"2\" halign=\"left\">july</th>\n",
       "      <th colspan=\"2\" halign=\"left\">june</th>\n",
       "      <th colspan=\"2\" halign=\"left\">march</th>\n",
       "      <th colspan=\"2\" halign=\"left\">may</th>\n",
       "      <th colspan=\"2\" halign=\"left\">november</th>\n",
       "      <th colspan=\"2\" halign=\"left\">october</th>\n",
       "      <th colspan=\"2\" halign=\"left\">september</th>\n",
       "    </tr>\n",
       "    <tr>\n",
       "      <th>label</th>\n",
       "      <th>0</th>\n",
       "      <th>1</th>\n",
       "      <th>0</th>\n",
       "      <th>1</th>\n",
       "      <th>0</th>\n",
       "      <th>1</th>\n",
       "      <th>0</th>\n",
       "      <th>1</th>\n",
       "      <th>0</th>\n",
       "      <th>1</th>\n",
       "      <th>0</th>\n",
       "      <th>1</th>\n",
       "      <th>0</th>\n",
       "      <th>1</th>\n",
       "      <th>0</th>\n",
       "      <th>1</th>\n",
       "      <th>0</th>\n",
       "      <th>1</th>\n",
       "      <th>0</th>\n",
       "      <th>1</th>\n",
       "      <th>0</th>\n",
       "      <th>1</th>\n",
       "      <th>0</th>\n",
       "      <th>1</th>\n",
       "    </tr>\n",
       "  </thead>\n",
       "  <tbody>\n",
       "    <tr>\n",
       "      <th>count</th>\n",
       "      <td>6608</td>\n",
       "      <td>2831</td>\n",
       "      <td>18797</td>\n",
       "      <td>7817</td>\n",
       "      <td>4806</td>\n",
       "      <td>2137</td>\n",
       "      <td>5213</td>\n",
       "      <td>2206</td>\n",
       "      <td>4073</td>\n",
       "      <td>2233</td>\n",
       "      <td>19062</td>\n",
       "      <td>8165</td>\n",
       "      <td>12364</td>\n",
       "      <td>5997</td>\n",
       "      <td>6370</td>\n",
       "      <td>2842</td>\n",
       "      <td>9355</td>\n",
       "      <td>3995</td>\n",
       "      <td>4721</td>\n",
       "      <td>2476</td>\n",
       "      <td>5455</td>\n",
       "      <td>2665</td>\n",
       "      <td>7163</td>\n",
       "      <td>3019</td>\n",
       "    </tr>\n",
       "  </tbody>\n",
       "</table>\n",
       "</div>"
      ],
      "text/plain": [
       "months april       august       december       february       january        \\\n",
       "label      0     1      0     1        0     1        0     1       0     1   \n",
       "count   6608  2831  18797  7817     4806  2137     5213  2206    4073  2233   \n",
       "\n",
       "months   july         june       march         may       november        \\\n",
       "label       0     1      0     1     0     1     0     1        0     1   \n",
       "count   19062  8165  12364  5997  6370  2842  9355  3995     4721  2476   \n",
       "\n",
       "months october       september        \n",
       "label        0     1         0     1  \n",
       "count     5455  2665      7163  3019  "
      ]
     },
     "metadata": {},
     "output_type": "display_data"
    },
    {
     "data": {
      "image/png": "[encoded data removed]",
      "text/plain": [
       "<matplotlib.figure.Figure at 0x1d1d5e93780>"
      ]
     },
     "metadata": {},
     "output_type": "display_data"
    }
   ],
   "source": [
    "cleaned_features[\"months\"] = cleaned_features[\"E:time:timestamp\"].apply(lambda dt: dt.strftime('%B').lower())\n",
    "#display(cleaned_features.head(2))\n",
    "summary = cleaned_features.groupby([\"months\",\"label\"]).count().loc[:,[\"E:time:timestamp\"]]\n",
    "summary = summary.rename(columns={\"E:time:timestamp\":\"count\"})\n",
    "\n",
    "with pd.option_context('display.max_rows', None, 'display.max_columns', None):\n",
    "    display(summary.T)\n",
    "summary.plot(kind=\"bar\",title=\"Distribution of months per label\");"
   ]
  },
  {
   "cell_type": "code",
   "execution_count": 23,
   "metadata": {},
   "outputs": [
    {
     "data": {
      "text/html": [
       "<div>\n",
       "<style scoped>\n",
       "    .dataframe tbody tr th:only-of-type {\n",
       "        vertical-align: middle;\n",
       "    }\n",
       "\n",
       "    .dataframe tbody tr th {\n",
       "        vertical-align: top;\n",
       "    }\n",
       "\n",
       "    .dataframe thead th {\n",
       "        text-align: right;\n",
       "    }\n",
       "</style>\n",
       "<table border=\"1\" class=\"dataframe\">\n",
       "  <thead>\n",
       "    <tr style=\"text-align: right;\">\n",
       "      <th></th>\n",
       "      <th>E:amount</th>\n",
       "      <th>E:article</th>\n",
       "      <th>E:org:resource</th>\n",
       "      <th>E:points</th>\n",
       "      <th>E:time:timestamp</th>\n",
       "      <th>label</th>\n",
       "      <th>dismissal</th>\n",
       "      <th>car</th>\n",
       "      <th>autumn</th>\n",
       "      <th>spring</th>\n",
       "      <th>...</th>\n",
       "      <th>december</th>\n",
       "      <th>february</th>\n",
       "      <th>january</th>\n",
       "      <th>july</th>\n",
       "      <th>june</th>\n",
       "      <th>march</th>\n",
       "      <th>may</th>\n",
       "      <th>november</th>\n",
       "      <th>october</th>\n",
       "      <th>september</th>\n",
       "    </tr>\n",
       "  </thead>\n",
       "  <tbody>\n",
       "    <tr>\n",
       "      <th>0</th>\n",
       "      <td>35.0</td>\n",
       "      <td>157.0</td>\n",
       "      <td>561.0</td>\n",
       "      <td>0.0</td>\n",
       "      <td>2006-07-24 12:00:00</td>\n",
       "      <td>0</td>\n",
       "      <td>1</td>\n",
       "      <td>1</td>\n",
       "      <td>0</td>\n",
       "      <td>0</td>\n",
       "      <td>...</td>\n",
       "      <td>0</td>\n",
       "      <td>0</td>\n",
       "      <td>0</td>\n",
       "      <td>1</td>\n",
       "      <td>0</td>\n",
       "      <td>0</td>\n",
       "      <td>0</td>\n",
       "      <td>0</td>\n",
       "      <td>0</td>\n",
       "      <td>0</td>\n",
       "    </tr>\n",
       "    <tr>\n",
       "      <th>1</th>\n",
       "      <td>35.0</td>\n",
       "      <td>157.0</td>\n",
       "      <td>561.0</td>\n",
       "      <td>0.0</td>\n",
       "      <td>2006-08-02 12:00:00</td>\n",
       "      <td>0</td>\n",
       "      <td>1</td>\n",
       "      <td>1</td>\n",
       "      <td>0</td>\n",
       "      <td>0</td>\n",
       "      <td>...</td>\n",
       "      <td>0</td>\n",
       "      <td>0</td>\n",
       "      <td>0</td>\n",
       "      <td>0</td>\n",
       "      <td>0</td>\n",
       "      <td>0</td>\n",
       "      <td>0</td>\n",
       "      <td>0</td>\n",
       "      <td>0</td>\n",
       "      <td>0</td>\n",
       "    </tr>\n",
       "  </tbody>\n",
       "</table>\n",
       "<p>2 rows × 24 columns</p>\n",
       "</div>"
      ],
      "text/plain": [
       "   E:amount  E:article  E:org:resource  E:points    E:time:timestamp  label  \\\n",
       "0      35.0      157.0           561.0       0.0 2006-07-24 12:00:00      0   \n",
       "1      35.0      157.0           561.0       0.0 2006-08-02 12:00:00      0   \n",
       "\n",
       "   dismissal  car  autumn  spring    ...      december  february  january  \\\n",
       "0          1    1       0       0    ...             0         0        0   \n",
       "1          1    1       0       0    ...             0         0        0   \n",
       "\n",
       "   july  june  march  may  november  october  september  \n",
       "0     1     0      0    0         0        0          0  \n",
       "1     0     0      0    0         0        0          0  \n",
       "\n",
       "[2 rows x 24 columns]"
      ]
     },
     "execution_count": 23,
     "metadata": {},
     "output_type": "execute_result"
    }
   ],
   "source": [
    "dummy_features = pd.get_dummies(cleaned_features[\"months\"])\n",
    "# Reappend to features\n",
    "cleaned_features = pd.concat([cleaned_features, dummy_features], axis=1).drop([\"months\"],axis=1)\n",
    "cleaned_features.head(2)"
   ]
  },
  {
   "cell_type": "markdown",
   "metadata": {},
   "source": [
    "-------\n",
    "## Prepare dataframe for classification"
   ]
  },
  {
   "cell_type": "code",
   "execution_count": 24,
   "metadata": {},
   "outputs": [],
   "source": [
    "from sklearn.preprocessing import scale\n",
    "from copy import deepcopy\n",
    "# target variable\n",
    "target_column = data[\"label\"] \n",
    "# Drop timestamp and label\n",
    "cleaned_features = cleaned_features.drop([\"E:time:timestamp\",\"label\"],axis=1)\n",
    "# scale all non dummy features\n",
    "numerical_cols = [\"E:amount\", \"E:article\",\"E:org:resource\", \"E:points\"]\n",
    "cleaned_features.loc[:,numerical_cols]=pd.DataFrame(scale(cleaned_features.loc[:,numerical_cols]), columns=numerical_cols)\n",
    "                                "
   ]
  },
  {
   "cell_type": "code",
   "execution_count": 25,
   "metadata": {},
   "outputs": [
    {
     "name": "stdout",
     "output_type": "stream",
     "text": [
      "Final Features:\n",
      "\n"
     ]
    },
    {
     "data": {
      "text/html": [
       "<div>\n",
       "<style scoped>\n",
       "    .dataframe tbody tr th:only-of-type {\n",
       "        vertical-align: middle;\n",
       "    }\n",
       "\n",
       "    .dataframe tbody tr th {\n",
       "        vertical-align: top;\n",
       "    }\n",
       "\n",
       "    .dataframe thead th {\n",
       "        text-align: right;\n",
       "    }\n",
       "</style>\n",
       "<table border=\"1\" class=\"dataframe\">\n",
       "  <thead>\n",
       "    <tr style=\"text-align: right;\">\n",
       "      <th></th>\n",
       "      <th>E:amount</th>\n",
       "      <th>E:article</th>\n",
       "      <th>E:points</th>\n",
       "      <th>car</th>\n",
       "      <th>april</th>\n",
       "      <th>august</th>\n",
       "      <th>december</th>\n",
       "      <th>february</th>\n",
       "      <th>january</th>\n",
       "      <th>july</th>\n",
       "      <th>june</th>\n",
       "      <th>march</th>\n",
       "      <th>may</th>\n",
       "      <th>november</th>\n",
       "      <th>october</th>\n",
       "      <th>september</th>\n",
       "    </tr>\n",
       "  </thead>\n",
       "  <tbody>\n",
       "    <tr>\n",
       "      <th>0</th>\n",
       "      <td>-0.196602</td>\n",
       "      <td>0.641364</td>\n",
       "      <td>-0.136543</td>\n",
       "      <td>1</td>\n",
       "      <td>0</td>\n",
       "      <td>0</td>\n",
       "      <td>0</td>\n",
       "      <td>0</td>\n",
       "      <td>0</td>\n",
       "      <td>1</td>\n",
       "      <td>0</td>\n",
       "      <td>0</td>\n",
       "      <td>0</td>\n",
       "      <td>0</td>\n",
       "      <td>0</td>\n",
       "      <td>0</td>\n",
       "    </tr>\n",
       "    <tr>\n",
       "      <th>1</th>\n",
       "      <td>-0.196602</td>\n",
       "      <td>0.641364</td>\n",
       "      <td>-0.136543</td>\n",
       "      <td>1</td>\n",
       "      <td>0</td>\n",
       "      <td>1</td>\n",
       "      <td>0</td>\n",
       "      <td>0</td>\n",
       "      <td>0</td>\n",
       "      <td>0</td>\n",
       "      <td>0</td>\n",
       "      <td>0</td>\n",
       "      <td>0</td>\n",
       "      <td>0</td>\n",
       "      <td>0</td>\n",
       "      <td>0</td>\n",
       "    </tr>\n",
       "    <tr>\n",
       "      <th>2</th>\n",
       "      <td>-0.176366</td>\n",
       "      <td>0.641364</td>\n",
       "      <td>-0.136543</td>\n",
       "      <td>1</td>\n",
       "      <td>0</td>\n",
       "      <td>0</td>\n",
       "      <td>0</td>\n",
       "      <td>0</td>\n",
       "      <td>0</td>\n",
       "      <td>0</td>\n",
       "      <td>0</td>\n",
       "      <td>1</td>\n",
       "      <td>0</td>\n",
       "      <td>0</td>\n",
       "      <td>0</td>\n",
       "      <td>0</td>\n",
       "    </tr>\n",
       "    <tr>\n",
       "      <th>3</th>\n",
       "      <td>-0.176366</td>\n",
       "      <td>0.641364</td>\n",
       "      <td>-0.136543</td>\n",
       "      <td>1</td>\n",
       "      <td>0</td>\n",
       "      <td>0</td>\n",
       "      <td>0</td>\n",
       "      <td>0</td>\n",
       "      <td>0</td>\n",
       "      <td>0</td>\n",
       "      <td>0</td>\n",
       "      <td>1</td>\n",
       "      <td>0</td>\n",
       "      <td>0</td>\n",
       "      <td>0</td>\n",
       "      <td>0</td>\n",
       "    </tr>\n",
       "    <tr>\n",
       "      <th>4</th>\n",
       "      <td>-0.176366</td>\n",
       "      <td>0.641364</td>\n",
       "      <td>-0.136543</td>\n",
       "      <td>1</td>\n",
       "      <td>0</td>\n",
       "      <td>0</td>\n",
       "      <td>0</td>\n",
       "      <td>0</td>\n",
       "      <td>0</td>\n",
       "      <td>0</td>\n",
       "      <td>0</td>\n",
       "      <td>1</td>\n",
       "      <td>0</td>\n",
       "      <td>0</td>\n",
       "      <td>0</td>\n",
       "      <td>0</td>\n",
       "    </tr>\n",
       "  </tbody>\n",
       "</table>\n",
       "</div>"
      ],
      "text/plain": [
       "   E:amount  E:article  E:points  car  april  august  december  february  \\\n",
       "0 -0.196602   0.641364 -0.136543    1      0       0         0         0   \n",
       "1 -0.196602   0.641364 -0.136543    1      0       1         0         0   \n",
       "2 -0.176366   0.641364 -0.136543    1      0       0         0         0   \n",
       "3 -0.176366   0.641364 -0.136543    1      0       0         0         0   \n",
       "4 -0.176366   0.641364 -0.136543    1      0       0         0         0   \n",
       "\n",
       "   january  july  june  march  may  november  october  september  \n",
       "0        0     1     0      0    0         0        0          0  \n",
       "1        0     0     0      0    0         0        0          0  \n",
       "2        0     0     0      1    0         0        0          0  \n",
       "3        0     0     0      1    0         0        0          0  \n",
       "4        0     0     0      1    0         0        0          0  "
      ]
     },
     "metadata": {},
     "output_type": "display_data"
    }
   ],
   "source": [
    "# drop some not useful features\n",
    "monthly_features = [\"april\",\"august\", \"december\", \"february\",\n",
    "                    \"january\", \"july\", \"june\", \"march\", \"may\",\n",
    "                    \"november\", \"october\", \"september\"]\n",
    "seasonal_features = [\"autumn\", \"spring\", \"summer\",\"winter\"]\n",
    "\n",
    "features = cleaned_features.drop(seasonal_features +[\"dismissal\",\"E:org:resource\"],axis=1)\n",
    "print(\"Final Features:\\n\")\n",
    "display(features.head())"
   ]
  },
  {
   "cell_type": "markdown",
   "metadata": {},
   "source": [
    "--------------\n",
    "## Model Selection"
   ]
  },
  {
   "cell_type": "markdown",
   "metadata": {},
   "source": [
    "### Create Train/Test Split"
   ]
  },
  {
   "cell_type": "code",
   "execution_count": 26,
   "metadata": {},
   "outputs": [],
   "source": [
    "seed_num = 5\n",
    "X_train, X_test, y_train, y_test = train_test_split(features, target_column, test_size=0.10, stratify=target_column, random_state=seed_num)"
   ]
  },
  {
   "cell_type": "code",
   "execution_count": 27,
   "metadata": {},
   "outputs": [
    {
     "data": {
      "image/png": "[encoded data removed]",
      "text/plain": [
       "<matplotlib.figure.Figure at 0x1d1d5e50fd0>"
      ]
     },
     "metadata": {},
     "output_type": "display_data"
    }
   ],
   "source": [
    "fig, ax = plt.subplots()\n",
    "ax.set_title(\"Label Distribution of Training Set with {} rows \".format(y_train.shape[0]))\n",
    "ax.hist(y_train);"
   ]
  },
  {
   "cell_type": "markdown",
   "metadata": {},
   "source": [
    "### Define parameters for GridSearch Random Forest"
   ]
  },
  {
   "cell_type": "code",
   "execution_count": 28,
   "metadata": {
    "collapsed": true
   },
   "outputs": [],
   "source": [
    "#parameters = {'n_estimators':np.arange(5,30,step=5), 'criterion':('gini', 'entropy')}\n",
    "parameters = {'n_estimators':[5,10,15], 'criterion':['gini', 'entropy'],'max_features': ['auto','sqrt','log2']}\n"
   ]
  },
  {
   "cell_type": "markdown",
   "metadata": {},
   "source": [
    "### Perform Gridsearch with cross validation for Random Forest"
   ]
  },
  {
   "cell_type": "code",
   "execution_count": 29,
   "metadata": {},
   "outputs": [
    {
     "data": {
      "text/plain": [
       "GridSearchCV(cv=10, error_score='raise',\n",
       "       estimator=RandomForestClassifier(bootstrap=True, class_weight='balanced',\n",
       "            criterion='gini', max_depth=None, max_features='auto',\n",
       "            max_leaf_nodes=None, min_impurity_decrease=0.0,\n",
       "            min_impurity_split=None, min_samples_leaf=1,\n",
       "            min_samples_split=2, min_weight_fraction_leaf=0.0,\n",
       "            n_estimators=10, n_jobs=-1, oob_score=False, random_state=5,\n",
       "            verbose=0, warm_start=False),\n",
       "       fit_params=None, iid=True, n_jobs=1,\n",
       "       param_grid={'max_features': ['auto', 'sqrt', 'log2'], 'n_estimators': [5, 10, 15], 'criterion': ['gini', 'entropy']},\n",
       "       pre_dispatch='2*n_jobs', refit=True, return_train_score=True,\n",
       "       scoring='roc_auc', verbose=0)"
      ]
     },
     "execution_count": 29,
     "metadata": {},
     "output_type": "execute_result"
    }
   ],
   "source": [
    "# create random forest classifier and perform grid search with cross validation\n",
    "rf = RandomForestClassifier(random_state=seed_num, n_jobs=-1, class_weight=\"balanced\")\n",
    "clf = GridSearchCV(rf, parameters, cv=10, scoring='roc_auc')\n",
    "clf.fit(X_train,y_train)"
   ]
  },
  {
   "cell_type": "markdown",
   "metadata": {},
   "source": [
    "### Get best parameter combination"
   ]
  },
  {
   "cell_type": "code",
   "execution_count": 30,
   "metadata": {},
   "outputs": [
    {
     "data": {
      "text/plain": [
       "{'criterion': 'gini', 'max_features': 'log2', 'n_estimators': 15}"
      ]
     },
     "execution_count": 30,
     "metadata": {},
     "output_type": "execute_result"
    }
   ],
   "source": [
    "bp = clf.best_params_\n",
    "bp"
   ]
  },
  {
   "cell_type": "markdown",
   "metadata": {},
   "source": [
    "### Apply parameters to Random forest"
   ]
  },
  {
   "cell_type": "code",
   "execution_count": 31,
   "metadata": {
    "collapsed": true
   },
   "outputs": [],
   "source": [
    "rf_with_best_params = RandomForestClassifier(n_estimators=bp['n_estimators'], criterion=bp['criterion'],random_state=seed_num)"
   ]
  },
  {
   "cell_type": "markdown",
   "metadata": {},
   "source": [
    "### Rerun model with parameters"
   ]
  },
  {
   "cell_type": "code",
   "execution_count": 32,
   "metadata": {
    "collapsed": true
   },
   "outputs": [],
   "source": [
    "# fit model onto train set\n",
    "#rf_with_best_params.fit(X_train,y_train)\n",
    "# predict labels\n",
    "rf_with_best_params_pred = clf.predict(X_test)\n",
    "# predict probabilities\n",
    "rf_with_best_params_probs = clf.predict_proba(X_test)"
   ]
  },
  {
   "cell_type": "markdown",
   "metadata": {},
   "source": [
    "### Readjust probability to predict 0 - Want to be more cautious for non payment"
   ]
  },
  {
   "cell_type": "code",
   "execution_count": 57,
   "metadata": {},
   "outputs": [],
   "source": [
    "threshold_probability = 0.485\n",
    "rf_with_best_params_pred = [0 if prob[0] > threshold_probability else 1 for prob in rf_with_best_params_probs]"
   ]
  },
  {
   "cell_type": "markdown",
   "metadata": {},
   "source": [
    "### Distribution of prediction and ground truth"
   ]
  },
  {
   "cell_type": "code",
   "execution_count": 58,
   "metadata": {},
   "outputs": [
    {
     "data": {
      "image/png": "[encoded data removed]",
      "text/plain": [
       "<matplotlib.figure.Figure at 0x1d1d34b9dd8>"
      ]
     },
     "metadata": {},
     "output_type": "display_data"
    }
   ],
   "source": [
    "fig, axes = plt.subplots(nrows=1, ncols=2, figsize=(12,3))\n",
    "axes[0].set_title(\"Prediction Distribution\")\n",
    "axes[0].hist(rf_with_best_params_pred)\n",
    "\n",
    "axes[1].set_title(\"Ground Truth Distribution\")\n",
    "axes[1].hist(y_test)\n",
    "fig.tight_layout();"
   ]
  },
  {
   "cell_type": "markdown",
   "metadata": {},
   "source": [
    "### Accuracy Score"
   ]
  },
  {
   "cell_type": "code",
   "execution_count": 59,
   "metadata": {},
   "outputs": [
    {
     "data": {
      "text/plain": [
       "0.58775021613353728"
      ]
     },
     "execution_count": 59,
     "metadata": {},
     "output_type": "execute_result"
    }
   ],
   "source": [
    "accuracy_score(y_test, rf_with_best_params_pred)"
   ]
  },
  {
   "cell_type": "code",
   "execution_count": 60,
   "metadata": {},
   "outputs": [],
   "source": [
    "fpr, tpr, thresholds = roc_curve(y_test, rf_with_best_params_pred)\n",
    "roc_auc = auc(fpr, tpr)"
   ]
  },
  {
   "cell_type": "code",
   "execution_count": 61,
   "metadata": {},
   "outputs": [
    {
     "data": {
      "text/plain": [
       "0.62036013596524131"
      ]
     },
     "execution_count": 61,
     "metadata": {},
     "output_type": "execute_result"
    }
   ],
   "source": [
    "roc_auc"
   ]
  },
  {
   "cell_type": "code",
   "execution_count": 62,
   "metadata": {},
   "outputs": [
    {
     "data": {
      "image/png": "[encoded data removed]",
      "text/plain": [
       "<matplotlib.figure.Figure at 0x1d1d5e59550>"
      ]
     },
     "metadata": {},
     "output_type": "display_data"
    }
   ],
   "source": [
    "plt.title('Receiver Operating Characteristic')\n",
    "plt.plot(fpr, tpr, 'b',\n",
    "label='AUC = %0.4f'% roc_auc)\n",
    "plt.legend(loc='lower right')\n",
    "plt.plot([0,1],[0,1],'r--')\n",
    "plt.xlim([-0.1,1.2])\n",
    "plt.ylim([-0.1,1.2])\n",
    "plt.ylabel('True Positive Rate')\n",
    "plt.xlabel('False Positive Rate')\n",
    "plt.show()"
   ]
  }
 ],
 "metadata": {
  "kernelspec": {
   "display_name": "Python [default]",
   "language": "python",
   "name": "python3"
  },
  "language_info": {
   "codemirror_mode": {
    "name": "ipython",
    "version": 3
   },
   "file_extension": ".py",
   "mimetype": "text/x-python",
   "name": "python",
   "nbconvert_exporter": "python",
   "pygments_lexer": "ipython3",
   "version": "3.5.4"
  }
 },
 "nbformat": 4,
 "nbformat_minor": 2
}
