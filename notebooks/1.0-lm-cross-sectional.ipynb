{
 "cells": [
  {
   "cell_type": "markdown",
   "metadata": {},
   "source": [
    "# CROSS SECTIONAL ANALYSIS\n",
    "\n",
    "In this notebook we will try to build a classifier which can answer our forst research question"
   ]
  },
  {
   "cell_type": "markdown",
   "metadata": {},
   "source": [
    "### Question: Will an issued fine be paid shortly after?"
   ]
  },
  {
   "cell_type": "code",
   "execution_count": 98,
   "metadata": {},
   "outputs": [
    {
     "name": "stdout",
     "output_type": "stream",
     "text": [
      "The autoreload extension is already loaded. To reload it, use:\n",
      "  %reload_ext autoreload\n"
     ]
    }
   ],
   "source": [
    "# Load the \"autoreload\" extension\n",
    "%load_ext autoreload\n",
    "%autoreload 2\n",
    "\n",
    "import sys\n",
    "import os\n",
    "import numpy as np\n",
    "import pandas as pd\n",
    "import matplotlib\n",
    "%matplotlib inline\n",
    "#%matplotlib notebook\n",
    "import matplotlib as mpl\n",
    "import matplotlib.pyplot as plt\n",
    "mpl.style.use('ggplot')\n",
    "\n",
    "# add the 'src' directory as one where we can import modules\n",
    "src_dir = os.path.abspath(os.path.join(os.getcwd(), os.pardir, 'src'))\n",
    "sys.path.append(src_dir)\n",
    "\n",
    "# self written packages\n",
    "from data import data_utils\n",
    "from data.preprocessing import preprocess\n",
    "\n",
    "from copy import deepcopy\n",
    "from sklearn.model_selection import train_test_split\n",
    "from sklearn.ensemble import RandomForestClassifier\n",
    "from sklearn.metrics import accuracy_score\n",
    "from sklearn.model_selection import cross_val_score\n",
    "from sklearn.model_selection import GridSearchCV\n",
    "from sklearn.metrics import roc_curve, auc"
   ]
  },
  {
   "cell_type": "markdown",
   "metadata": {},
   "source": [
    "## Read files from directory of processed data tables"
   ]
  },
  {
   "cell_type": "code",
   "execution_count": 99,
   "metadata": {},
   "outputs": [],
   "source": [
    "dfs = data_utils.read_csv_from_dir(dir_name=\"processed\")"
   ]
  },
  {
   "cell_type": "markdown",
   "metadata": {},
   "source": [
    "### Get all CaseIDs from create_fine events:"
   ]
  },
  {
   "cell_type": "code",
   "execution_count": 100,
   "metadata": {},
   "outputs": [
    {
     "data": {
      "text/plain": [
       "150370"
      ]
     },
     "execution_count": 100,
     "metadata": {},
     "output_type": "execute_result"
    }
   ],
   "source": [
    "create_fine_activities_RAW = deepcopy(dfs[3])\n",
    "create_fine_uid = set(create_fine_activities_RAW[\"T:concept:name\"])\n",
    "len(create_fine_uid)"
   ]
  },
  {
   "cell_type": "code",
   "execution_count": 101,
   "metadata": {},
   "outputs": [
    {
     "data": {
      "text/html": [
       "<div>\n",
       "<style>\n",
       "    .dataframe thead tr:only-child th {\n",
       "        text-align: right;\n",
       "    }\n",
       "\n",
       "    .dataframe thead th {\n",
       "        text-align: left;\n",
       "    }\n",
       "\n",
       "    .dataframe tbody tr th {\n",
       "        vertical-align: top;\n",
       "    }\n",
       "</style>\n",
       "<table border=\"1\" class=\"dataframe\">\n",
       "  <thead>\n",
       "    <tr style=\"text-align: right;\">\n",
       "      <th></th>\n",
       "      <th>index</th>\n",
       "      <th>T:concept:name</th>\n",
       "      <th>E:concept:name</th>\n",
       "      <th>E:dismissal</th>\n",
       "      <th>E:lifecycle:transition</th>\n",
       "      <th>E:time:timestamp</th>\n",
       "    </tr>\n",
       "  </thead>\n",
       "  <tbody>\n",
       "    <tr>\n",
       "      <th>0</th>\n",
       "      <td>17</td>\n",
       "      <td>A10001</td>\n",
       "      <td>Send Appeal to Prefecture</td>\n",
       "      <td>#</td>\n",
       "      <td>complete</td>\n",
       "      <td>9/24/07 12:00 AM</td>\n",
       "    </tr>\n",
       "    <tr>\n",
       "      <th>1</th>\n",
       "      <td>263</td>\n",
       "      <td>A10102</td>\n",
       "      <td>Send Appeal to Prefecture</td>\n",
       "      <td>#</td>\n",
       "      <td>complete</td>\n",
       "      <td>10/25/07 12:00 AM</td>\n",
       "    </tr>\n",
       "    <tr>\n",
       "      <th>2</th>\n",
       "      <td>276</td>\n",
       "      <td>A10107</td>\n",
       "      <td>Send Appeal to Prefecture</td>\n",
       "      <td>#</td>\n",
       "      <td>complete</td>\n",
       "      <td>9/24/07 12:00 AM</td>\n",
       "    </tr>\n",
       "    <tr>\n",
       "      <th>3</th>\n",
       "      <td>320</td>\n",
       "      <td>A10125</td>\n",
       "      <td>Send Appeal to Prefecture</td>\n",
       "      <td>NIL</td>\n",
       "      <td>complete</td>\n",
       "      <td>9/24/07 12:00 AM</td>\n",
       "    </tr>\n",
       "    <tr>\n",
       "      <th>4</th>\n",
       "      <td>574</td>\n",
       "      <td>A10236</td>\n",
       "      <td>Send Appeal to Prefecture</td>\n",
       "      <td>#</td>\n",
       "      <td>complete</td>\n",
       "      <td>10/2/07 12:00 AM</td>\n",
       "    </tr>\n",
       "  </tbody>\n",
       "</table>\n",
       "</div>"
      ],
      "text/plain": [
       "   index T:concept:name             E:concept:name E:dismissal  \\\n",
       "0     17         A10001  Send Appeal to Prefecture           #   \n",
       "1    263         A10102  Send Appeal to Prefecture           #   \n",
       "2    276         A10107  Send Appeal to Prefecture           #   \n",
       "3    320         A10125  Send Appeal to Prefecture         NIL   \n",
       "4    574         A10236  Send Appeal to Prefecture           #   \n",
       "\n",
       "  E:lifecycle:transition   E:time:timestamp  \n",
       "0               complete   9/24/07 12:00 AM  \n",
       "1               complete  10/25/07 12:00 AM  \n",
       "2               complete   9/24/07 12:00 AM  \n",
       "3               complete   9/24/07 12:00 AM  \n",
       "4               complete   10/2/07 12:00 AM  "
      ]
     },
     "execution_count": 101,
     "metadata": {},
     "output_type": "execute_result"
    }
   ],
   "source": [
    "dfs[1].head()"
   ]
  },
  {
   "cell_type": "markdown",
   "metadata": {},
   "source": [
    "### Get all CaseIDs from payment events:"
   ]
  },
  {
   "cell_type": "code",
   "execution_count": 102,
   "metadata": {},
   "outputs": [],
   "source": [
    "payment_activities_RAW = deepcopy(dfs[7])\n",
    "payment_uid = set(payment_activities_RAW[\"T:concept:name\"])"
   ]
  },
  {
   "cell_type": "markdown",
   "metadata": {},
   "source": [
    "### Create union of both sets to get all cases which are common"
   ]
  },
  {
   "cell_type": "code",
   "execution_count": 103,
   "metadata": {},
   "outputs": [
    {
     "data": {
      "text/plain": [
       "69715"
      ]
     },
     "execution_count": 103,
     "metadata": {},
     "output_type": "execute_result"
    }
   ],
   "source": [
    "# union of both events\n",
    "create_to_payment_uid = payment_uid & create_fine_uid\n",
    "len(create_to_payment_uid)"
   ]
  },
  {
   "cell_type": "markdown",
   "metadata": {},
   "source": [
    "### Delete all CaseIDs which are part of any other set"
   ]
  },
  {
   "cell_type": "code",
   "execution_count": 104,
   "metadata": {
    "scrolled": false
   },
   "outputs": [],
   "source": [
    "result_ids = create_to_payment_uid\n",
    "for i in range(0,len(dfs)):\n",
    "    if i not in [3,7]:\n",
    "        helper = deepcopy(dfs[i])\n",
    "        helper = set(helper[\"T:concept:name\"])\n",
    "        result_ids = result_ids - helper"
   ]
  },
  {
   "cell_type": "markdown",
   "metadata": {},
   "source": [
    "### Amount of unique cases which only exist of create_fine and payment event"
   ]
  },
  {
   "cell_type": "code",
   "execution_count": 105,
   "metadata": {},
   "outputs": [
    {
     "data": {
      "text/plain": [
       "46383"
      ]
     },
     "execution_count": 105,
     "metadata": {},
     "output_type": "execute_result"
    }
   ],
   "source": [
    "len(result_ids)"
   ]
  },
  {
   "cell_type": "markdown",
   "metadata": {},
   "source": [
    "### Add Column to create_fine data frame whcih holds the dependent variable (label)"
   ]
  },
  {
   "cell_type": "code",
   "execution_count": 106,
   "metadata": {},
   "outputs": [],
   "source": [
    "data = create_fine_activities_RAW.set_index(\"T:concept:name\")\n",
    "data[\"label\"] = 0\n",
    "payment_indices = list(result_ids)\n",
    "data.loc[payment_indices, \"label\"] = 1"
   ]
  },
  {
   "cell_type": "code",
   "execution_count": 107,
   "metadata": {},
   "outputs": [
    {
     "data": {
      "text/html": [
       "<div>\n",
       "<style>\n",
       "    .dataframe thead tr:only-child th {\n",
       "        text-align: right;\n",
       "    }\n",
       "\n",
       "    .dataframe thead th {\n",
       "        text-align: left;\n",
       "    }\n",
       "\n",
       "    .dataframe tbody tr th {\n",
       "        vertical-align: top;\n",
       "    }\n",
       "</style>\n",
       "<table border=\"1\" class=\"dataframe\">\n",
       "  <thead>\n",
       "    <tr style=\"text-align: right;\">\n",
       "      <th></th>\n",
       "      <th>index</th>\n",
       "      <th>E:amount</th>\n",
       "      <th>E:article</th>\n",
       "      <th>E:concept:name</th>\n",
       "      <th>E:dismissal</th>\n",
       "      <th>E:lifecycle:transition</th>\n",
       "      <th>E:org:resource</th>\n",
       "      <th>E:points</th>\n",
       "      <th>E:time:timestamp</th>\n",
       "      <th>E:vehicleClass</th>\n",
       "      <th>label</th>\n",
       "    </tr>\n",
       "    <tr>\n",
       "      <th>T:concept:name</th>\n",
       "      <th></th>\n",
       "      <th></th>\n",
       "      <th></th>\n",
       "      <th></th>\n",
       "      <th></th>\n",
       "      <th></th>\n",
       "      <th></th>\n",
       "      <th></th>\n",
       "      <th></th>\n",
       "      <th></th>\n",
       "      <th></th>\n",
       "    </tr>\n",
       "  </thead>\n",
       "  <tbody>\n",
       "    <tr>\n",
       "      <th>A1</th>\n",
       "      <td>0</td>\n",
       "      <td>35.0</td>\n",
       "      <td>157.0</td>\n",
       "      <td>Create Fine</td>\n",
       "      <td>NIL</td>\n",
       "      <td>complete</td>\n",
       "      <td>561.0</td>\n",
       "      <td>0.0</td>\n",
       "      <td>7/24/06 12:00 AM</td>\n",
       "      <td>A</td>\n",
       "      <td>0</td>\n",
       "    </tr>\n",
       "    <tr>\n",
       "      <th>A100</th>\n",
       "      <td>2</td>\n",
       "      <td>35.0</td>\n",
       "      <td>157.0</td>\n",
       "      <td>Create Fine</td>\n",
       "      <td>NIL</td>\n",
       "      <td>complete</td>\n",
       "      <td>561.0</td>\n",
       "      <td>0.0</td>\n",
       "      <td>8/2/06 12:00 AM</td>\n",
       "      <td>A</td>\n",
       "      <td>0</td>\n",
       "    </tr>\n",
       "    <tr>\n",
       "      <th>A10000</th>\n",
       "      <td>7</td>\n",
       "      <td>36.0</td>\n",
       "      <td>157.0</td>\n",
       "      <td>Create Fine</td>\n",
       "      <td>NIL</td>\n",
       "      <td>complete</td>\n",
       "      <td>561.0</td>\n",
       "      <td>0.0</td>\n",
       "      <td>3/9/07 12:00 AM</td>\n",
       "      <td>A</td>\n",
       "      <td>0</td>\n",
       "    </tr>\n",
       "    <tr>\n",
       "      <th>A10001</th>\n",
       "      <td>12</td>\n",
       "      <td>36.0</td>\n",
       "      <td>157.0</td>\n",
       "      <td>Create Fine</td>\n",
       "      <td>NIL</td>\n",
       "      <td>complete</td>\n",
       "      <td>537.0</td>\n",
       "      <td>0.0</td>\n",
       "      <td>3/19/07 12:00 AM</td>\n",
       "      <td>A</td>\n",
       "      <td>0</td>\n",
       "    </tr>\n",
       "    <tr>\n",
       "      <th>A10004</th>\n",
       "      <td>18</td>\n",
       "      <td>36.0</td>\n",
       "      <td>157.0</td>\n",
       "      <td>Create Fine</td>\n",
       "      <td>NIL</td>\n",
       "      <td>complete</td>\n",
       "      <td>537.0</td>\n",
       "      <td>0.0</td>\n",
       "      <td>3/20/07 12:00 AM</td>\n",
       "      <td>A</td>\n",
       "      <td>0</td>\n",
       "    </tr>\n",
       "  </tbody>\n",
       "</table>\n",
       "</div>"
      ],
      "text/plain": [
       "                index  E:amount  E:article E:concept:name E:dismissal  \\\n",
       "T:concept:name                                                          \n",
       "A1                  0      35.0      157.0    Create Fine         NIL   \n",
       "A100                2      35.0      157.0    Create Fine         NIL   \n",
       "A10000              7      36.0      157.0    Create Fine         NIL   \n",
       "A10001             12      36.0      157.0    Create Fine         NIL   \n",
       "A10004             18      36.0      157.0    Create Fine         NIL   \n",
       "\n",
       "               E:lifecycle:transition  E:org:resource  E:points  \\\n",
       "T:concept:name                                                    \n",
       "A1                           complete           561.0       0.0   \n",
       "A100                         complete           561.0       0.0   \n",
       "A10000                       complete           561.0       0.0   \n",
       "A10001                       complete           537.0       0.0   \n",
       "A10004                       complete           537.0       0.0   \n",
       "\n",
       "                E:time:timestamp E:vehicleClass  label  \n",
       "T:concept:name                                          \n",
       "A1              7/24/06 12:00 AM              A      0  \n",
       "A100             8/2/06 12:00 AM              A      0  \n",
       "A10000           3/9/07 12:00 AM              A      0  \n",
       "A10001          3/19/07 12:00 AM              A      0  \n",
       "A10004          3/20/07 12:00 AM              A      0  "
      ]
     },
     "execution_count": 107,
     "metadata": {},
     "output_type": "execute_result"
    }
   ],
   "source": [
    "data.head()"
   ]
  },
  {
   "cell_type": "markdown",
   "metadata": {},
   "source": [
    "## Definition of the E:dismissal variable:\n",
    "Dismissal contains a character that encodes the diverse reasons for a possible dismissal of the fine. A value of NIL encodes that the fine is not dismissed (i.e. has to be paid) any other value encodes different motivations."
   ]
  },
  {
   "cell_type": "markdown",
   "metadata": {},
   "source": [
    "### Redesign feature E:dismissal so that 1 encodes has to be paid & 0 encodes the opposite"
   ]
  },
  {
   "cell_type": "code",
   "execution_count": 108,
   "metadata": {},
   "outputs": [],
   "source": [
    "data[\"dismissal\"] = 0\n",
    "dismissal_nil_indices = list(data[data[\"E:dismissal\"]=='NIL'].index)\n",
    "data.loc[dismissal_nil_indices, \"dismissal\"] = 1\n",
    "data = data.drop('E:dismissal', axis=1)\n",
    "data.reset_index(inplace=True)"
   ]
  },
  {
   "cell_type": "code",
   "execution_count": 109,
   "metadata": {},
   "outputs": [
    {
     "data": {
      "text/html": [
       "<div>\n",
       "<style>\n",
       "    .dataframe thead tr:only-child th {\n",
       "        text-align: right;\n",
       "    }\n",
       "\n",
       "    .dataframe thead th {\n",
       "        text-align: left;\n",
       "    }\n",
       "\n",
       "    .dataframe tbody tr th {\n",
       "        vertical-align: top;\n",
       "    }\n",
       "</style>\n",
       "<table border=\"1\" class=\"dataframe\">\n",
       "  <thead>\n",
       "    <tr style=\"text-align: right;\">\n",
       "      <th></th>\n",
       "      <th>T:concept:name</th>\n",
       "      <th>index</th>\n",
       "      <th>E:amount</th>\n",
       "      <th>E:article</th>\n",
       "      <th>E:concept:name</th>\n",
       "      <th>E:lifecycle:transition</th>\n",
       "      <th>E:org:resource</th>\n",
       "      <th>E:points</th>\n",
       "      <th>E:time:timestamp</th>\n",
       "      <th>E:vehicleClass</th>\n",
       "      <th>label</th>\n",
       "      <th>dismissal</th>\n",
       "    </tr>\n",
       "  </thead>\n",
       "  <tbody>\n",
       "    <tr>\n",
       "      <th>0</th>\n",
       "      <td>A1</td>\n",
       "      <td>0</td>\n",
       "      <td>35.0</td>\n",
       "      <td>157.0</td>\n",
       "      <td>Create Fine</td>\n",
       "      <td>complete</td>\n",
       "      <td>561.0</td>\n",
       "      <td>0.0</td>\n",
       "      <td>7/24/06 12:00 AM</td>\n",
       "      <td>A</td>\n",
       "      <td>0</td>\n",
       "      <td>1</td>\n",
       "    </tr>\n",
       "    <tr>\n",
       "      <th>1</th>\n",
       "      <td>A100</td>\n",
       "      <td>2</td>\n",
       "      <td>35.0</td>\n",
       "      <td>157.0</td>\n",
       "      <td>Create Fine</td>\n",
       "      <td>complete</td>\n",
       "      <td>561.0</td>\n",
       "      <td>0.0</td>\n",
       "      <td>8/2/06 12:00 AM</td>\n",
       "      <td>A</td>\n",
       "      <td>0</td>\n",
       "      <td>1</td>\n",
       "    </tr>\n",
       "    <tr>\n",
       "      <th>2</th>\n",
       "      <td>A10000</td>\n",
       "      <td>7</td>\n",
       "      <td>36.0</td>\n",
       "      <td>157.0</td>\n",
       "      <td>Create Fine</td>\n",
       "      <td>complete</td>\n",
       "      <td>561.0</td>\n",
       "      <td>0.0</td>\n",
       "      <td>3/9/07 12:00 AM</td>\n",
       "      <td>A</td>\n",
       "      <td>0</td>\n",
       "      <td>1</td>\n",
       "    </tr>\n",
       "    <tr>\n",
       "      <th>3</th>\n",
       "      <td>A10001</td>\n",
       "      <td>12</td>\n",
       "      <td>36.0</td>\n",
       "      <td>157.0</td>\n",
       "      <td>Create Fine</td>\n",
       "      <td>complete</td>\n",
       "      <td>537.0</td>\n",
       "      <td>0.0</td>\n",
       "      <td>3/19/07 12:00 AM</td>\n",
       "      <td>A</td>\n",
       "      <td>0</td>\n",
       "      <td>1</td>\n",
       "    </tr>\n",
       "    <tr>\n",
       "      <th>4</th>\n",
       "      <td>A10004</td>\n",
       "      <td>18</td>\n",
       "      <td>36.0</td>\n",
       "      <td>157.0</td>\n",
       "      <td>Create Fine</td>\n",
       "      <td>complete</td>\n",
       "      <td>537.0</td>\n",
       "      <td>0.0</td>\n",
       "      <td>3/20/07 12:00 AM</td>\n",
       "      <td>A</td>\n",
       "      <td>0</td>\n",
       "      <td>1</td>\n",
       "    </tr>\n",
       "  </tbody>\n",
       "</table>\n",
       "</div>"
      ],
      "text/plain": [
       "  T:concept:name  index  E:amount  E:article E:concept:name  \\\n",
       "0             A1      0      35.0      157.0    Create Fine   \n",
       "1           A100      2      35.0      157.0    Create Fine   \n",
       "2         A10000      7      36.0      157.0    Create Fine   \n",
       "3         A10001     12      36.0      157.0    Create Fine   \n",
       "4         A10004     18      36.0      157.0    Create Fine   \n",
       "\n",
       "  E:lifecycle:transition  E:org:resource  E:points  E:time:timestamp  \\\n",
       "0               complete           561.0       0.0  7/24/06 12:00 AM   \n",
       "1               complete           561.0       0.0   8/2/06 12:00 AM   \n",
       "2               complete           561.0       0.0   3/9/07 12:00 AM   \n",
       "3               complete           537.0       0.0  3/19/07 12:00 AM   \n",
       "4               complete           537.0       0.0  3/20/07 12:00 AM   \n",
       "\n",
       "  E:vehicleClass  label  dismissal  \n",
       "0              A      0          1  \n",
       "1              A      0          1  \n",
       "2              A      0          1  \n",
       "3              A      0          1  \n",
       "4              A      0          1  "
      ]
     },
     "execution_count": 109,
     "metadata": {},
     "output_type": "execute_result"
    }
   ],
   "source": [
    "data.head()"
   ]
  },
  {
   "cell_type": "markdown",
   "metadata": {},
   "source": [
    "### Prepare dataframe for classification"
   ]
  },
  {
   "cell_type": "code",
   "execution_count": 110,
   "metadata": {
    "collapsed": true
   },
   "outputs": [],
   "source": [
    "# drop unnecessary columns\n",
    "not_used_columns = ['label','index', 'E:org:resource','T:concept:name','E:concept:name', 'E:lifecycle:transition', 'E:time:timestamp']\n",
    "\n",
    "# target variable\n",
    "target_column = data[\"label\"] \n",
    "\n",
    "cleaned_features = data.drop(not_used_columns, axis = 1)"
   ]
  },
  {
   "cell_type": "code",
   "execution_count": 111,
   "metadata": {},
   "outputs": [
    {
     "data": {
      "text/plain": [
       "103987"
      ]
     },
     "execution_count": 111,
     "metadata": {},
     "output_type": "execute_result"
    }
   ],
   "source": [
    "len(target_column[target_column==0])"
   ]
  },
  {
   "cell_type": "code",
   "execution_count": 112,
   "metadata": {},
   "outputs": [
    {
     "data": {
      "text/html": [
       "<div>\n",
       "<style>\n",
       "    .dataframe thead tr:only-child th {\n",
       "        text-align: right;\n",
       "    }\n",
       "\n",
       "    .dataframe thead th {\n",
       "        text-align: left;\n",
       "    }\n",
       "\n",
       "    .dataframe tbody tr th {\n",
       "        vertical-align: top;\n",
       "    }\n",
       "</style>\n",
       "<table border=\"1\" class=\"dataframe\">\n",
       "  <thead>\n",
       "    <tr style=\"text-align: right;\">\n",
       "      <th></th>\n",
       "      <th>E:amount</th>\n",
       "      <th>E:article</th>\n",
       "      <th>E:points</th>\n",
       "      <th>E:vehicleClass</th>\n",
       "      <th>dismissal</th>\n",
       "    </tr>\n",
       "  </thead>\n",
       "  <tbody>\n",
       "    <tr>\n",
       "      <th>0</th>\n",
       "      <td>35.0</td>\n",
       "      <td>157.0</td>\n",
       "      <td>0.0</td>\n",
       "      <td>A</td>\n",
       "      <td>1</td>\n",
       "    </tr>\n",
       "    <tr>\n",
       "      <th>1</th>\n",
       "      <td>35.0</td>\n",
       "      <td>157.0</td>\n",
       "      <td>0.0</td>\n",
       "      <td>A</td>\n",
       "      <td>1</td>\n",
       "    </tr>\n",
       "    <tr>\n",
       "      <th>2</th>\n",
       "      <td>36.0</td>\n",
       "      <td>157.0</td>\n",
       "      <td>0.0</td>\n",
       "      <td>A</td>\n",
       "      <td>1</td>\n",
       "    </tr>\n",
       "    <tr>\n",
       "      <th>3</th>\n",
       "      <td>36.0</td>\n",
       "      <td>157.0</td>\n",
       "      <td>0.0</td>\n",
       "      <td>A</td>\n",
       "      <td>1</td>\n",
       "    </tr>\n",
       "    <tr>\n",
       "      <th>4</th>\n",
       "      <td>36.0</td>\n",
       "      <td>157.0</td>\n",
       "      <td>0.0</td>\n",
       "      <td>A</td>\n",
       "      <td>1</td>\n",
       "    </tr>\n",
       "  </tbody>\n",
       "</table>\n",
       "</div>"
      ],
      "text/plain": [
       "   E:amount  E:article  E:points E:vehicleClass  dismissal\n",
       "0      35.0      157.0       0.0              A          1\n",
       "1      35.0      157.0       0.0              A          1\n",
       "2      36.0      157.0       0.0              A          1\n",
       "3      36.0      157.0       0.0              A          1\n",
       "4      36.0      157.0       0.0              A          1"
      ]
     },
     "execution_count": 112,
     "metadata": {},
     "output_type": "execute_result"
    }
   ],
   "source": [
    "cleaned_features.head()"
   ]
  },
  {
   "cell_type": "markdown",
   "metadata": {},
   "source": [
    "### Create dummy feature out of E:vehicleClass"
   ]
  },
  {
   "cell_type": "code",
   "execution_count": 113,
   "metadata": {
    "collapsed": true
   },
   "outputs": [],
   "source": [
    "dummies = ['E:vehicleClass']\n",
    "\n",
    "for dummy in dummies:\n",
    "    features_with_dummy = pd.get_dummies(cleaned_features[dummy]).rename(columns=lambda x: dummy + '_' + str(x))\n",
    "    cleaned_features = pd.concat([cleaned_features, features_with_dummy], axis=1)\n",
    "    cleaned_features = cleaned_features.drop([dummy], axis=1)"
   ]
  },
  {
   "cell_type": "code",
   "execution_count": 114,
   "metadata": {},
   "outputs": [
    {
     "data": {
      "text/html": [
       "<div>\n",
       "<style>\n",
       "    .dataframe thead tr:only-child th {\n",
       "        text-align: right;\n",
       "    }\n",
       "\n",
       "    .dataframe thead th {\n",
       "        text-align: left;\n",
       "    }\n",
       "\n",
       "    .dataframe tbody tr th {\n",
       "        vertical-align: top;\n",
       "    }\n",
       "</style>\n",
       "<table border=\"1\" class=\"dataframe\">\n",
       "  <thead>\n",
       "    <tr style=\"text-align: right;\">\n",
       "      <th></th>\n",
       "      <th>E:amount</th>\n",
       "      <th>E:article</th>\n",
       "      <th>E:points</th>\n",
       "      <th>dismissal</th>\n",
       "      <th>E:vehicleClass_A</th>\n",
       "      <th>E:vehicleClass_C</th>\n",
       "      <th>E:vehicleClass_M</th>\n",
       "      <th>E:vehicleClass_R</th>\n",
       "    </tr>\n",
       "  </thead>\n",
       "  <tbody>\n",
       "    <tr>\n",
       "      <th>0</th>\n",
       "      <td>35.0</td>\n",
       "      <td>157.0</td>\n",
       "      <td>0.0</td>\n",
       "      <td>1</td>\n",
       "      <td>1</td>\n",
       "      <td>0</td>\n",
       "      <td>0</td>\n",
       "      <td>0</td>\n",
       "    </tr>\n",
       "    <tr>\n",
       "      <th>1</th>\n",
       "      <td>35.0</td>\n",
       "      <td>157.0</td>\n",
       "      <td>0.0</td>\n",
       "      <td>1</td>\n",
       "      <td>1</td>\n",
       "      <td>0</td>\n",
       "      <td>0</td>\n",
       "      <td>0</td>\n",
       "    </tr>\n",
       "    <tr>\n",
       "      <th>2</th>\n",
       "      <td>36.0</td>\n",
       "      <td>157.0</td>\n",
       "      <td>0.0</td>\n",
       "      <td>1</td>\n",
       "      <td>1</td>\n",
       "      <td>0</td>\n",
       "      <td>0</td>\n",
       "      <td>0</td>\n",
       "    </tr>\n",
       "    <tr>\n",
       "      <th>3</th>\n",
       "      <td>36.0</td>\n",
       "      <td>157.0</td>\n",
       "      <td>0.0</td>\n",
       "      <td>1</td>\n",
       "      <td>1</td>\n",
       "      <td>0</td>\n",
       "      <td>0</td>\n",
       "      <td>0</td>\n",
       "    </tr>\n",
       "    <tr>\n",
       "      <th>4</th>\n",
       "      <td>36.0</td>\n",
       "      <td>157.0</td>\n",
       "      <td>0.0</td>\n",
       "      <td>1</td>\n",
       "      <td>1</td>\n",
       "      <td>0</td>\n",
       "      <td>0</td>\n",
       "      <td>0</td>\n",
       "    </tr>\n",
       "  </tbody>\n",
       "</table>\n",
       "</div>"
      ],
      "text/plain": [
       "   E:amount  E:article  E:points  dismissal  E:vehicleClass_A  \\\n",
       "0      35.0      157.0       0.0          1                 1   \n",
       "1      35.0      157.0       0.0          1                 1   \n",
       "2      36.0      157.0       0.0          1                 1   \n",
       "3      36.0      157.0       0.0          1                 1   \n",
       "4      36.0      157.0       0.0          1                 1   \n",
       "\n",
       "   E:vehicleClass_C  E:vehicleClass_M  E:vehicleClass_R  \n",
       "0                 0                 0                 0  \n",
       "1                 0                 0                 0  \n",
       "2                 0                 0                 0  \n",
       "3                 0                 0                 0  \n",
       "4                 0                 0                 0  "
      ]
     },
     "execution_count": 114,
     "metadata": {},
     "output_type": "execute_result"
    }
   ],
   "source": [
    "cleaned_features.head()"
   ]
  },
  {
   "cell_type": "code",
   "execution_count": 153,
   "metadata": {},
   "outputs": [
    {
     "data": {
      "text/html": [
       "<div>\n",
       "<style>\n",
       "    .dataframe thead tr:only-child th {\n",
       "        text-align: right;\n",
       "    }\n",
       "\n",
       "    .dataframe thead th {\n",
       "        text-align: left;\n",
       "    }\n",
       "\n",
       "    .dataframe tbody tr th {\n",
       "        vertical-align: top;\n",
       "    }\n",
       "</style>\n",
       "<table border=\"1\" class=\"dataframe\">\n",
       "  <thead>\n",
       "    <tr style=\"text-align: right;\">\n",
       "      <th></th>\n",
       "      <th>E:amount</th>\n",
       "      <th>E:article</th>\n",
       "      <th>E:points</th>\n",
       "      <th>dismissal</th>\n",
       "      <th>E:vehicleClass_A</th>\n",
       "      <th>E:vehicleClass_C</th>\n",
       "      <th>E:vehicleClass_M</th>\n",
       "      <th>E:vehicleClass_R</th>\n",
       "    </tr>\n",
       "  </thead>\n",
       "  <tbody>\n",
       "    <tr>\n",
       "      <th>count</th>\n",
       "      <td>150370.000000</td>\n",
       "      <td>150370.000000</td>\n",
       "      <td>150370.000000</td>\n",
       "      <td>150370.000000</td>\n",
       "      <td>150370.000000</td>\n",
       "      <td>150370.000000</td>\n",
       "      <td>150370.000000</td>\n",
       "      <td>150370.000000</td>\n",
       "    </tr>\n",
       "    <tr>\n",
       "      <th>mean</th>\n",
       "      <td>44.715380</td>\n",
       "      <td>113.246658</td>\n",
       "      <td>0.078879</td>\n",
       "      <td>0.996648</td>\n",
       "      <td>0.975673</td>\n",
       "      <td>0.016333</td>\n",
       "      <td>0.007967</td>\n",
       "      <td>0.000027</td>\n",
       "    </tr>\n",
       "    <tr>\n",
       "      <th>std</th>\n",
       "      <td>49.416618</td>\n",
       "      <td>68.219475</td>\n",
       "      <td>0.577687</td>\n",
       "      <td>0.057797</td>\n",
       "      <td>0.154062</td>\n",
       "      <td>0.126753</td>\n",
       "      <td>0.088902</td>\n",
       "      <td>0.005158</td>\n",
       "    </tr>\n",
       "    <tr>\n",
       "      <th>min</th>\n",
       "      <td>0.000000</td>\n",
       "      <td>7.000000</td>\n",
       "      <td>0.000000</td>\n",
       "      <td>0.000000</td>\n",
       "      <td>0.000000</td>\n",
       "      <td>0.000000</td>\n",
       "      <td>0.000000</td>\n",
       "      <td>0.000000</td>\n",
       "    </tr>\n",
       "    <tr>\n",
       "      <th>25%</th>\n",
       "      <td>32.800000</td>\n",
       "      <td>7.000000</td>\n",
       "      <td>0.000000</td>\n",
       "      <td>1.000000</td>\n",
       "      <td>1.000000</td>\n",
       "      <td>0.000000</td>\n",
       "      <td>0.000000</td>\n",
       "      <td>0.000000</td>\n",
       "    </tr>\n",
       "    <tr>\n",
       "      <th>50%</th>\n",
       "      <td>35.000000</td>\n",
       "      <td>157.000000</td>\n",
       "      <td>0.000000</td>\n",
       "      <td>1.000000</td>\n",
       "      <td>1.000000</td>\n",
       "      <td>0.000000</td>\n",
       "      <td>0.000000</td>\n",
       "      <td>0.000000</td>\n",
       "    </tr>\n",
       "    <tr>\n",
       "      <th>75%</th>\n",
       "      <td>38.000000</td>\n",
       "      <td>157.000000</td>\n",
       "      <td>0.000000</td>\n",
       "      <td>1.000000</td>\n",
       "      <td>1.000000</td>\n",
       "      <td>0.000000</td>\n",
       "      <td>0.000000</td>\n",
       "      <td>0.000000</td>\n",
       "    </tr>\n",
       "    <tr>\n",
       "      <th>max</th>\n",
       "      <td>4351.000000</td>\n",
       "      <td>401.000000</td>\n",
       "      <td>10.000000</td>\n",
       "      <td>1.000000</td>\n",
       "      <td>1.000000</td>\n",
       "      <td>1.000000</td>\n",
       "      <td>1.000000</td>\n",
       "      <td>1.000000</td>\n",
       "    </tr>\n",
       "  </tbody>\n",
       "</table>\n",
       "</div>"
      ],
      "text/plain": [
       "            E:amount      E:article       E:points      dismissal  \\\n",
       "count  150370.000000  150370.000000  150370.000000  150370.000000   \n",
       "mean       44.715380     113.246658       0.078879       0.996648   \n",
       "std        49.416618      68.219475       0.577687       0.057797   \n",
       "min         0.000000       7.000000       0.000000       0.000000   \n",
       "25%        32.800000       7.000000       0.000000       1.000000   \n",
       "50%        35.000000     157.000000       0.000000       1.000000   \n",
       "75%        38.000000     157.000000       0.000000       1.000000   \n",
       "max      4351.000000     401.000000      10.000000       1.000000   \n",
       "\n",
       "       E:vehicleClass_A  E:vehicleClass_C  E:vehicleClass_M  E:vehicleClass_R  \n",
       "count     150370.000000     150370.000000     150370.000000     150370.000000  \n",
       "mean           0.975673          0.016333          0.007967          0.000027  \n",
       "std            0.154062          0.126753          0.088902          0.005158  \n",
       "min            0.000000          0.000000          0.000000          0.000000  \n",
       "25%            1.000000          0.000000          0.000000          0.000000  \n",
       "50%            1.000000          0.000000          0.000000          0.000000  \n",
       "75%            1.000000          0.000000          0.000000          0.000000  \n",
       "max            1.000000          1.000000          1.000000          1.000000  "
      ]
     },
     "execution_count": 153,
     "metadata": {},
     "output_type": "execute_result"
    }
   ],
   "source": [
    "cleaned_features.describe()"
   ]
  },
  {
   "cell_type": "markdown",
   "metadata": {},
   "source": [
    "### Define parameters for Random Forest & seed for reproducability"
   ]
  },
  {
   "cell_type": "code",
   "execution_count": 141,
   "metadata": {
    "collapsed": true
   },
   "outputs": [],
   "source": [
    "seed_num = 42\n",
    "parameters = {'n_estimators':np.arange(2,30,step=2), 'criterion':('gini', 'entropy')}"
   ]
  },
  {
   "cell_type": "markdown",
   "metadata": {},
   "source": [
    "### Create Train/Test Split"
   ]
  },
  {
   "cell_type": "code",
   "execution_count": 142,
   "metadata": {
    "collapsed": true
   },
   "outputs": [],
   "source": [
    "X_train, X_test, y_train, y_test = train_test_split(cleaned_features, target_column, test_size=0.33, random_state=seed_num)"
   ]
  },
  {
   "cell_type": "markdown",
   "metadata": {},
   "source": [
    "### Perform Gridsearch with Crossvalidation for Random Forest"
   ]
  },
  {
   "cell_type": "code",
   "execution_count": 143,
   "metadata": {},
   "outputs": [
    {
     "data": {
      "text/plain": [
       "GridSearchCV(cv=10, error_score='raise',\n",
       "       estimator=RandomForestClassifier(bootstrap=True, class_weight=None, criterion='gini',\n",
       "            max_depth=None, max_features='auto', max_leaf_nodes=None,\n",
       "            min_impurity_decrease=0.0, min_impurity_split=None,\n",
       "            min_samples_leaf=1, min_samples_split=2,\n",
       "            min_weight_fraction_leaf=0.0, n_estimators=10, n_jobs=1,\n",
       "            oob_score=False, random_state=42, verbose=0, warm_start=False),\n",
       "       fit_params=None, iid=True, n_jobs=1,\n",
       "       param_grid={'criterion': ('gini', 'entropy'), 'n_estimators': array([ 2,  4,  6,  8, 10, 12, 14, 16, 18, 20, 22, 24, 26, 28])},\n",
       "       pre_dispatch='2*n_jobs', refit=True, return_train_score='warn',\n",
       "       scoring=None, verbose=0)"
      ]
     },
     "execution_count": 143,
     "metadata": {},
     "output_type": "execute_result"
    }
   ],
   "source": [
    "# create random forest classifier and perform grid search with cross validation\n",
    "rf = RandomForestClassifier(random_state=seed_num)\n",
    "clf = GridSearchCV(rf, parameters,cv=10)\n",
    "clf.fit(X_train,y_train)"
   ]
  },
  {
   "cell_type": "markdown",
   "metadata": {},
   "source": [
    "### Get best parameter combination"
   ]
  },
  {
   "cell_type": "code",
   "execution_count": 144,
   "metadata": {},
   "outputs": [
    {
     "data": {
      "text/plain": [
       "{'criterion': 'gini', 'n_estimators': 14}"
      ]
     },
     "execution_count": 144,
     "metadata": {},
     "output_type": "execute_result"
    }
   ],
   "source": [
    "bp = clf.best_params_\n",
    "bp"
   ]
  },
  {
   "cell_type": "markdown",
   "metadata": {},
   "source": [
    "### Apply parameters to Random forest"
   ]
  },
  {
   "cell_type": "code",
   "execution_count": 145,
   "metadata": {
    "collapsed": true
   },
   "outputs": [],
   "source": [
    "rf_with_best_params = RandomForestClassifier(n_estimators=bp['n_estimators'], criterion=bp['criterion'],random_state=seed_num)"
   ]
  },
  {
   "cell_type": "markdown",
   "metadata": {},
   "source": [
    "### Rerun model with parameters"
   ]
  },
  {
   "cell_type": "code",
   "execution_count": 146,
   "metadata": {
    "collapsed": true
   },
   "outputs": [],
   "source": [
    "# fit model onto train set\n",
    "rf_with_best_params.fit(X_train,y_train)\n",
    "# predict labels\n",
    "rf_with_best_params_pred = clf.predict(X_test)\n",
    "# predict probabilities\n",
    "rf_with_best_params_probs = clf.predict_proba(X_test)"
   ]
  },
  {
   "cell_type": "markdown",
   "metadata": {},
   "source": [
    "### Accuracy Score"
   ]
  },
  {
   "cell_type": "code",
   "execution_count": 147,
   "metadata": {},
   "outputs": [
    {
     "data": {
      "text/plain": [
       "0.69548394897527355"
      ]
     },
     "execution_count": 147,
     "metadata": {},
     "output_type": "execute_result"
    }
   ],
   "source": [
    "accuracy_score(y_test, rf_with_best_params_pred)"
   ]
  },
  {
   "cell_type": "code",
   "execution_count": 148,
   "metadata": {},
   "outputs": [],
   "source": [
    "fpr, tpr, thresholds = metrics.roc_curve(y_test, rf_with_best_params_pred)\n",
    "roc_auc = auc(fpr, tpr)"
   ]
  },
  {
   "cell_type": "code",
   "execution_count": 149,
   "metadata": {},
   "outputs": [
    {
     "data": {
      "image/png": "[encoded data removed]",
      "text/plain": [
       "<matplotlib.figure.Figure at 0x1a0d1285c0>"
      ]
     },
     "metadata": {},
     "output_type": "display_data"
    }
   ],
   "source": [
    "plt.title('Receiver Operating Characteristic')\n",
    "plt.plot(fpr, tpr, 'b',\n",
    "label='AUC = %0.2f'% roc_auc)\n",
    "plt.legend(loc='lower right')\n",
    "plt.plot([0,1],[0,1],'r--')\n",
    "plt.xlim([-0.1,1.2])\n",
    "plt.ylim([-0.1,1.2])\n",
    "plt.ylabel('True Positive Rate')\n",
    "plt.xlabel('False Positive Rate')\n",
    "plt.show()"
   ]
  },
  {
   "cell_type": "code",
   "execution_count": null,
   "metadata": {
    "collapsed": true
   },
   "outputs": [],
   "source": []
  }
 ],
 "metadata": {
  "kernelspec": {
   "display_name": "Python 3",
   "language": "python",
   "name": "python3"
  },
  "language_info": {
   "codemirror_mode": {
    "name": "ipython",
    "version": 3
   },
   "file_extension": ".py",
   "mimetype": "text/x-python",
   "name": "python",
   "nbconvert_exporter": "python",
   "pygments_lexer": "ipython3",
   "version": "3.5.4"
  }
 },
 "nbformat": 4,
 "nbformat_minor": 2
}
