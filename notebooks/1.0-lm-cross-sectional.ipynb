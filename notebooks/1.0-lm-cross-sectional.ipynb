{
 "cells": [
  {
   "cell_type": "markdown",
   "metadata": {},
   "source": [
    "# Initial EDA\n",
    "\n",
    "In this notebook we explore the preprocessed data tables"
   ]
  },
  {
   "cell_type": "code",
   "execution_count": 5,
   "metadata": {},
   "outputs": [
    {
     "name": "stdout",
     "output_type": "stream",
     "text": [
      "The autoreload extension is already loaded. To reload it, use:\n",
      "  %reload_ext autoreload\n"
     ]
    }
   ],
   "source": [
    "# Load the \"autoreload\" extension\n",
    "%load_ext autoreload\n",
    "%autoreload 2\n",
    "\n",
    "import sys\n",
    "import os\n",
    "import numpy as np\n",
    "import pandas as pd\n",
    "import matplotlib\n",
    "%matplotlib inline\n",
    "#%matplotlib notebook\n",
    "import matplotlib as mpl\n",
    "import matplotlib.pyplot as plt\n",
    "mpl.style.use('ggplot')\n",
    "\n",
    "# add the 'src' directory as one where we can import modules\n",
    "src_dir = os.path.abspath(os.path.join(os.getcwd(), os.pardir, 'src'))\n",
    "sys.path.append(src_dir)\n",
    "\n",
    "# self written packages\n",
    "from data import data_utils\n",
    "from data.preprocessing import preprocess\n"
   ]
  },
  {
   "cell_type": "markdown",
   "metadata": {},
   "source": [
    "## Read files from directory of processed data tables"
   ]
  },
  {
   "cell_type": "code",
   "execution_count": 3,
   "metadata": {},
   "outputs": [
    {
     "name": "stderr",
     "output_type": "stream",
     "text": [
      "[autoreload of data.preprocessing failed: Traceback (most recent call last):\n",
      "  File \"/Users/moritz/anaconda/envs/dm/lib/python3.5/site-packages/IPython/extensions/autoreload.py\", line 246, in check\n",
      "    superreload(m, reload, self.old_objects)\n",
      "  File \"/Users/moritz/anaconda/envs/dm/lib/python3.5/site-packages/IPython/extensions/autoreload.py\", line 369, in superreload\n",
      "    module = reload(module)\n",
      "  File \"/Users/moritz/anaconda/envs/dm/lib/python3.5/imp.py\", line 315, in reload\n",
      "    return importlib.reload(module)\n",
      "  File \"/Users/moritz/anaconda/envs/dm/lib/python3.5/importlib/__init__.py\", line 166, in reload\n",
      "    _bootstrap._exec(spec, module)\n",
      "  File \"<frozen importlib._bootstrap>\", line 626, in _exec\n",
      "  File \"<frozen importlib._bootstrap_external>\", line 697, in exec_module\n",
      "  File \"<frozen importlib._bootstrap>\", line 222, in _call_with_frames_removed\n",
      "  File \"/Users/moritz/Desktop/BI2/bi2_project2/src/data/preprocessing.py\", line 8, in <module>\n",
      "    import data_utils\n",
      "ImportError: No module named 'data_utils'\n",
      "]\n"
     ]
    },
    {
     "name": "stdout",
     "output_type": "stream",
     "text": [
      "We have 11 tables\n"
     ]
    }
   ],
   "source": [
    "dfs = data_utils.read_csv_from_dir(dir_name=\"processed\")\n",
    "print(\"We have {} tables\".format(len(dfs)))"
   ]
  },
  {
   "cell_type": "markdown",
   "metadata": {},
   "source": [
    "## Head all 11 tables:"
   ]
  },
  {
   "cell_type": "code",
   "execution_count": 41,
   "metadata": {},
   "outputs": [
    {
     "data": {
      "text/plain": [
       "150370"
      ]
     },
     "execution_count": 41,
     "metadata": {},
     "output_type": "execute_result"
    }
   ],
   "source": [
    "##\n",
    "# All create_fine events\n",
    "##\n",
    "create_fine_activities_RAW = dfs[3]\n",
    "create_fine_uid = set(create_fine_activities_RAW[\"T:concept:name\"])\n",
    "len(create_fine_uid)"
   ]
  },
  {
   "cell_type": "code",
   "execution_count": 42,
   "metadata": {},
   "outputs": [
    {
     "data": {
      "text/plain": [
       "103987"
      ]
     },
     "execution_count": 42,
     "metadata": {},
     "output_type": "execute_result"
    }
   ],
   "source": [
    "##\n",
    "# All send_fine events\n",
    "##\n",
    "send_fine_activities_RAW = dfs[2]\n",
    "send_fine_uid = set(send_fine_activities_RAW[\"T:concept:name\"])\n",
    "len(send_fine_uid)"
   ]
  },
  {
   "cell_type": "code",
   "execution_count": 43,
   "metadata": {},
   "outputs": [
    {
     "data": {
      "text/plain": [
       "46383"
      ]
     },
     "execution_count": 43,
     "metadata": {},
     "output_type": "execute_result"
    }
   ],
   "source": [
    "##\n",
    "# All cases which go directly from create_fine to payment\n",
    "##\n",
    "direct_payment_uid = create_fine_uid - send_fine_uid\n",
    "len(direct_payment_uid)"
   ]
  },
  {
   "cell_type": "code",
   "execution_count": 37,
   "metadata": {},
   "outputs": [
    {
     "data": {
      "text/plain": [
       "59013"
      ]
     },
     "execution_count": 37,
     "metadata": {},
     "output_type": "execute_result"
    }
   ],
   "source": [
    "##\n",
    "# All send_for_credit_collection events\n",
    "##\n",
    "send_for_credit_collection_activities_RAW = dfs[5]\n",
    "send_for_credit_collection_uid = set(send_for_credit_collection_activities_RAW[\"T:concept:name\"])\n",
    "len(send_for_credit_collection_uid)"
   ]
  },
  {
   "cell_type": "code",
   "execution_count": 63,
   "metadata": {},
   "outputs": [],
   "source": [
    "##\n",
    "# All cases which consist only of the two events\n",
    "#   1) create_fine\n",
    "#   2) payment\n",
    "##\n",
    "\n",
    "# INTERESTING: Apparently do all cases which go directly from create_fine to payment stop at\n",
    "# payment. This means that there are no cases where a fine is created and too little is paid\n",
    "# because this would result \n",
    "\n",
    "filtered_create_fine_to_payment = direct_payment_uid - send_for_credit_collection_uid"
   ]
  },
  {
   "cell_type": "code",
   "execution_count": 65,
   "metadata": {},
   "outputs": [],
   "source": [
    "##\n",
    "# get all create_fine_cases contained in \"filtered_create_fine_to_payment\"\n",
    "##\n",
    "clean_cases = create_fine_activities_RAW.set_index(\"T:concept:name\").loc[list(filtered_create_fine_to_payment),:]\n",
    "clean_cases.reset_index(inplace=True)\n",
    "clean_cases.head()"
   ]
  },
  {
   "cell_type": "code",
   "execution_count": 66,
   "metadata": {},
   "outputs": [
    {
     "data": {
      "text/html": [
       "<div>\n",
       "<style>\n",
       "    .dataframe thead tr:only-child th {\n",
       "        text-align: right;\n",
       "    }\n",
       "\n",
       "    .dataframe thead th {\n",
       "        text-align: left;\n",
       "    }\n",
       "\n",
       "    .dataframe tbody tr th {\n",
       "        vertical-align: top;\n",
       "    }\n",
       "</style>\n",
       "<table border=\"1\" class=\"dataframe\">\n",
       "  <thead>\n",
       "    <tr style=\"text-align: right;\">\n",
       "      <th></th>\n",
       "      <th>T:concept:name</th>\n",
       "      <th>index</th>\n",
       "      <th>E:amount</th>\n",
       "      <th>E:article</th>\n",
       "      <th>E:concept:name</th>\n",
       "      <th>E:dismissal</th>\n",
       "      <th>E:lifecycle:transition</th>\n",
       "      <th>E:org:resource</th>\n",
       "      <th>E:points</th>\n",
       "      <th>E:time:timestamp</th>\n",
       "      <th>E:vehicleClass</th>\n",
       "    </tr>\n",
       "  </thead>\n",
       "  <tbody>\n",
       "    <tr>\n",
       "      <th>0</th>\n",
       "      <td>N47426</td>\n",
       "      <td>174207</td>\n",
       "      <td>33.6</td>\n",
       "      <td>157.0</td>\n",
       "      <td>Create Fine</td>\n",
       "      <td>NIL</td>\n",
       "      <td>complete</td>\n",
       "      <td>536.0</td>\n",
       "      <td>0.0</td>\n",
       "      <td>2/13/03 12:00 AM</td>\n",
       "      <td>A</td>\n",
       "    </tr>\n",
       "    <tr>\n",
       "      <th>1</th>\n",
       "      <td>S155716</td>\n",
       "      <td>376330</td>\n",
       "      <td>38.0</td>\n",
       "      <td>7.0</td>\n",
       "      <td>Create Fine</td>\n",
       "      <td>NIL</td>\n",
       "      <td>complete</td>\n",
       "      <td>41.0</td>\n",
       "      <td>0.0</td>\n",
       "      <td>7/23/10 12:00 AM</td>\n",
       "      <td>A</td>\n",
       "    </tr>\n",
       "    <tr>\n",
       "      <th>2</th>\n",
       "      <td>A4781</td>\n",
       "      <td>72379</td>\n",
       "      <td>21.0</td>\n",
       "      <td>7.0</td>\n",
       "      <td>Create Fine</td>\n",
       "      <td>NIL</td>\n",
       "      <td>complete</td>\n",
       "      <td>559.0</td>\n",
       "      <td>0.0</td>\n",
       "      <td>10/18/06 12:00 AM</td>\n",
       "      <td>A</td>\n",
       "    </tr>\n",
       "    <tr>\n",
       "      <th>3</th>\n",
       "      <td>N59171</td>\n",
       "      <td>194962</td>\n",
       "      <td>33.6</td>\n",
       "      <td>157.0</td>\n",
       "      <td>Create Fine</td>\n",
       "      <td>NIL</td>\n",
       "      <td>complete</td>\n",
       "      <td>552.0</td>\n",
       "      <td>0.0</td>\n",
       "      <td>7/24/04 12:00 AM</td>\n",
       "      <td>A</td>\n",
       "    </tr>\n",
       "    <tr>\n",
       "      <th>4</th>\n",
       "      <td>N88746</td>\n",
       "      <td>250811</td>\n",
       "      <td>35.0</td>\n",
       "      <td>157.0</td>\n",
       "      <td>Create Fine</td>\n",
       "      <td>NIL</td>\n",
       "      <td>complete</td>\n",
       "      <td>538.0</td>\n",
       "      <td>0.0</td>\n",
       "      <td>1/15/06 12:00 AM</td>\n",
       "      <td>A</td>\n",
       "    </tr>\n",
       "  </tbody>\n",
       "</table>\n",
       "</div>"
      ],
      "text/plain": [
       "  T:concept:name   index  E:amount  E:article E:concept:name E:dismissal  \\\n",
       "0         N47426  174207      33.6      157.0    Create Fine         NIL   \n",
       "1        S155716  376330      38.0        7.0    Create Fine         NIL   \n",
       "2          A4781   72379      21.0        7.0    Create Fine         NIL   \n",
       "3         N59171  194962      33.6      157.0    Create Fine         NIL   \n",
       "4         N88746  250811      35.0      157.0    Create Fine         NIL   \n",
       "\n",
       "  E:lifecycle:transition  E:org:resource  E:points   E:time:timestamp  \\\n",
       "0               complete           536.0       0.0   2/13/03 12:00 AM   \n",
       "1               complete            41.0       0.0   7/23/10 12:00 AM   \n",
       "2               complete           559.0       0.0  10/18/06 12:00 AM   \n",
       "3               complete           552.0       0.0   7/24/04 12:00 AM   \n",
       "4               complete           538.0       0.0   1/15/06 12:00 AM   \n",
       "\n",
       "  E:vehicleClass  \n",
       "0              A  \n",
       "1              A  \n",
       "2              A  \n",
       "3              A  \n",
       "4              A  "
      ]
     },
     "execution_count": 66,
     "metadata": {},
     "output_type": "execute_result"
    }
   ],
   "source": []
  },
  {
   "cell_type": "code",
   "execution_count": null,
   "metadata": {
    "collapsed": true
   },
   "outputs": [],
   "source": []
  }
 ],
 "metadata": {
  "kernelspec": {
   "display_name": "Python 3",
   "language": "python",
   "name": "python3"
  },
  "language_info": {
   "codemirror_mode": {
    "name": "ipython",
    "version": 3
   },
   "file_extension": ".py",
   "mimetype": "text/x-python",
   "name": "python",
   "nbconvert_exporter": "python",
   "pygments_lexer": "ipython3",
   "version": "3.5.4"
  }
 },
 "nbformat": 4,
 "nbformat_minor": 2
}
